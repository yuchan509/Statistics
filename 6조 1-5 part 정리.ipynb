{
 "cells": [
  {
   "cell_type": "code",
   "execution_count": 1,
   "metadata": {},
   "outputs": [],
   "source": [
    "import pandas as pd\n",
    "import numpy as np\n",
    "import matplotlib.pyplot as plt\n",
    "import matplotlib\n",
    "matplotlib.rcParams['font.family'] = 'Malgun Gothic'\n",
    "matplotlib.rcParams['axes.unicode_minus'] = False\n",
    "import scipy.stats as st\n",
    "import math\n",
    "from pandas_datareader import data\n",
    "import statsmodels.api as sm\n",
    "from IPython.display import Image"
   ]
  },
  {
   "cell_type": "markdown",
   "metadata": {},
   "source": [
    "#### 1. cars(x:speed, y:dist) 데이터를 이용하여 회귀계수(절편, 기울기) 를 구하시오.  공식(b0, b1)을 이용하여 구하시요.( 회귀분석 pdf 파일 6p 공식)"
   ]
  },
  {
   "cell_type": "markdown",
   "metadata": {},
   "source": [
    "#### 최소제곱 추정법(LSE : Least Square Estimation)"
   ]
  },
  {
   "cell_type": "markdown",
   "metadata": {},
   "source": [
    "$$ * \\text{Proof} * $$\n",
    "\n",
    "\n",
    "$$y_i=\\beta_0-\\beta_1 x_i+\\epsilon_i, \\quad  \\epsilon_i \\sim N(0, \\sigma^2) $$    \n",
    "\n",
    "$$ \\hat y_{i} =b_0-b_1 x_i \\quad where \\quad \\hat\\beta_0 = b_0, \\;  \\hat\\beta_1 = b_1  $$\n",
    "\n",
    "$$ Min\\; SSE = \\sum (y_i - \\hat{y_i})^2 = \\sum (y_i - (b_0-b_1 x_i))^2 $$\n",
    "\n",
    "$$\\frac{\\partial{SEE}}{\\partial{b_0}}=\\sum{(y_i-b_0-b_1 x_i)}=0$$\n",
    "\n",
    "$$\\frac{\\partial{SEE}}{\\partial{b_1}}=\\sum{(y_i-b_0-b_1 x_i)x_i}=0$$\n",
    "\n",
    "\n",
    "$$ * \\text{Normal\\; equation} * $$\n",
    "\n",
    "\n",
    "\n",
    "\n",
    "$$  X'Xb = \\begin {pmatrix} n & \\sum x_i \\\\ \\sum x_i & \\sum x_i^2 \\end {pmatrix}\\begin {pmatrix} b_0 \\\\ b_1 \\end {pmatrix}=\\begin {pmatrix} \\sum y_i \\\\ \\sum x_iy_i \\end {pmatrix}=X'Y$$\n",
    "\n",
    "\n",
    "$$\n",
    "{b} = (X'X)^{-1}X'Y\n",
    "$$\n",
    "\n",
    "\n",
    "$$\n",
    "{b} = \\begin {pmatrix} {b_0} \\\\ {b_1} \\end {pmatrix}  = {1 \\over \\sum(x_i - \\bar x)^2} \\begin {pmatrix} {1 \\over n}\\sum x_i^2 & - \\bar{x} \\\\ - \\bar{x} & 1 \\end {pmatrix} \\begin {pmatrix} \\sum y_i \\\\ \\sum x_iy_i\\end {pmatrix} = {1 \\over \\sum(x_i -\\bar{x})^2} \\begin {pmatrix} \\bar{y} \\sum x_i^2 - \\bar{x} \\sum x_iyi \\\\ \\sum x_iy_i - n \\bar{x} \\bar{y}\\end {pmatrix}\n",
    "$$\n",
    "\n",
    "\n",
    "\n",
    "\n",
    "\n",
    "$$ * \\text{Result} * $$\n",
    "\n",
    "$$\n",
    "\\therefore {b_0} = \\bar{y} - {b_1\\bar{x}}\n",
    "$$\n",
    "\n",
    "\n",
    "$$\n",
    "\\therefore {b_1} = { \\sum (x_i - \\bar{x} ) (y_i - \\bar{y}) \\over \\sum (x_i - \\bar{x} )^2 }\n",
    "$$"
   ]
  },
  {
   "cell_type": "code",
   "execution_count": 2,
   "metadata": {
    "scrolled": true
   },
   "outputs": [],
   "source": [
    "df = pd.read_csv( 'data/cars.csv', index_col='Unnamed: 0')\n",
    "x  = df['speed']\n",
    "y  = df['dist']"
   ]
  },
  {
   "cell_type": "markdown",
   "metadata": {},
   "source": [
    "- way1"
   ]
  },
  {
   "cell_type": "code",
   "execution_count": 3,
   "metadata": {},
   "outputs": [
    {
     "name": "stdout",
     "output_type": "stream",
     "text": [
      "b0: -17.57909489051095, b1: 3.9324087591240873\n"
     ]
    }
   ],
   "source": [
    "x_bar = sum(x)/len(x)\n",
    "y_bar = sum(y)/len(y)\n",
    "\n",
    "Sxy   = []\n",
    "Sxx   = []\n",
    "\n",
    "for i, j in zip(x,y):\n",
    "    Sxx.append( (i-x_bar)**2 )\n",
    "    Sxy.append( (i-x_bar)*(j) )\n",
    "    \n",
    "b_1   = sum(Sxy)/sum(Sxx)\n",
    "b_0   = y_bar - b_1*x_bar\n",
    "print( f'b0: {b_0}, b1: {b_1}' )"
   ]
  },
  {
   "cell_type": "markdown",
   "metadata": {},
   "source": [
    "- way2"
   ]
  },
  {
   "cell_type": "code",
   "execution_count": 4,
   "metadata": {},
   "outputs": [
    {
     "data": {
      "text/plain": [
       "(-17.57909489051096, 3.932408759124088)"
      ]
     },
     "execution_count": 4,
     "metadata": {},
     "output_type": "execute_result"
    }
   ],
   "source": [
    "b1 = ( (x - x.mean())*(y - y.mean()) ).sum() / ( (x- x.mean())**2 ).sum()\n",
    "b0 = y.mean() - ( b1*x.mean() )\n",
    "b0, b1"
   ]
  },
  {
   "cell_type": "markdown",
   "metadata": {},
   "source": [
    "$$\n",
    "{b_1} = { \\sum (x_i - \\bar{x} ) (y_i - \\bar{y}) \\over \\sum (x_i - \\bar{x} )^2 }= { \\sum (x_i - \\bar{x} )y_i \\over \\sum (x_i - \\bar{x} )^2 } = \\frac{Cov(x,y)}{Var(x)}= \\frac{Corr(x,y)\\sigma_y}{\\sigma_x}\n",
    "$$"
   ]
  },
  {
   "cell_type": "markdown",
   "metadata": {},
   "source": [
    "- way3"
   ]
  },
  {
   "cell_type": "code",
   "execution_count": 5,
   "metadata": {
    "scrolled": true
   },
   "outputs": [
    {
     "data": {
      "text/plain": [
       "(-17.57909489051095, 3.9324087591240873)"
      ]
     },
     "execution_count": 5,
     "metadata": {},
     "output_type": "execute_result"
    }
   ],
   "source": [
    "def LSE( x, y ):\n",
    "    b1 = np.cov(x, y)[0,1]/x.var()\n",
    "    b0 = y.mean() - b1 * x.mean()\n",
    "    return b0, b1\n",
    "LSE( x, y )"
   ]
  },
  {
   "cell_type": "code",
   "execution_count": 6,
   "metadata": {},
   "outputs": [
    {
     "data": {
      "text/plain": [
       "(-17.57909489051095, 3.9324087591240873)"
      ]
     },
     "execution_count": 6,
     "metadata": {},
     "output_type": "execute_result"
    }
   ],
   "source": [
    "def LSE( x, y ):\n",
    "    b1 = ( np.corrcoef(x,y)[0,1]*y.std() )/ x.std()\n",
    "    b0 = y.mean() - b1 * x.mean()\n",
    "    return b0, b1\n",
    "LSE( x, y )"
   ]
  },
  {
   "cell_type": "markdown",
   "metadata": {},
   "source": [
    "- way4"
   ]
  },
  {
   "cell_type": "code",
   "execution_count": 7,
   "metadata": {},
   "outputs": [
    {
     "data": {
      "text/plain": [
       "(-17.579094890510937, 3.9324087591240864)"
      ]
     },
     "execution_count": 7,
     "metadata": {},
     "output_type": "execute_result"
    }
   ],
   "source": [
    " st.linregress( x, y ).intercept, st.linregress( x, y ).slope"
   ]
  },
  {
   "cell_type": "markdown",
   "metadata": {},
   "source": [
    "- way5"
   ]
  },
  {
   "cell_type": "code",
   "execution_count": 8,
   "metadata": {},
   "outputs": [
    {
     "data": {
      "text/plain": [
       "Intercept   -17.579095\n",
       "speed         3.932409\n",
       "dtype: float64"
      ]
     },
     "execution_count": 8,
     "metadata": {},
     "output_type": "execute_result"
    }
   ],
   "source": [
    "sm.OLS.from_formula(\"dist ~ speed\", df).fit().params"
   ]
  },
  {
   "cell_type": "markdown",
   "metadata": {},
   "source": [
    "- Visualization"
   ]
  },
  {
   "cell_type": "code",
   "execution_count": 9,
   "metadata": {},
   "outputs": [
    {
     "data": {
      "image/png": "[encoded data removed]",
      "text/plain": [
       "<Figure size 360x360 with 1 Axes>"
      ]
     },
     "metadata": {
      "needs_background": "light"
     },
     "output_type": "display_data"
    }
   ],
   "source": [
    "plt.figure(figsize=(5,5))\n",
    "plt.xlabel('speed'); plt.ylabel('dist')\n",
    "plt.scatter( x, y, c='m' )\n",
    "lm = b_0 + b_1 *x \n",
    "plt.plot( x, lm, 'b--')\n",
    "plt.show()"
   ]
  },
  {
   "cell_type": "markdown",
   "metadata": {},
   "source": [
    "#### 2.  x=[1,2,3,4,5,6,7,8,9,10] ,  y=[2,4,6,8,10,12,14,16,18,20] 일때 h(x) = wx 로 하여 경사 하강 학습방법을 이용하여 w값을 구하시요."
   ]
  },
  {
   "cell_type": "markdown",
   "metadata": {},
   "source": [
    "#### Cost (MSE : Mean Square Error) 정의 =>  단, b를 고려하지 않은 경우의 Cost function\n",
    "$$\n",
    "cost(w) = \\frac{1}{n}\\sum_{i=1}^n (wx_{(i)}-y_{(i)})^2 $$ <br> $$ where \\quad wx_{(i)} = true\\,observation \\; ,\\, y_{(i)} = estimate\\,of\\, observation\n",
    "$$"
   ]
  },
  {
   "cell_type": "code",
   "execution_count": 10,
   "metadata": {},
   "outputs": [],
   "source": [
    "X = [1,2,3,4,5,6,7,8,9,10]\n",
    "Y = [2,4,6,8,10,12,14,16,18,20] "
   ]
  },
  {
   "cell_type": "markdown",
   "metadata": {},
   "source": [
    "#### Cost fucntion"
   ]
  },
  {
   "cell_type": "code",
   "execution_count": 11,
   "metadata": {},
   "outputs": [],
   "source": [
    "def cost( x, y, w ):\n",
    "    c=0\n",
    "    for i in np.arange( len(x) ):\n",
    "        hx = w*x[i]\n",
    "        c  = c+( hx-y[i])**2\n",
    "    return c / len(x)"
   ]
  },
  {
   "cell_type": "code",
   "execution_count": 12,
   "metadata": {},
   "outputs": [
    {
     "data": {
      "image/png": "[encoded data removed]",
      "text/plain": [
       "<Figure size 360x360 with 1 Axes>"
      ]
     },
     "metadata": {
      "needs_background": "light"
     },
     "output_type": "display_data"
    }
   ],
   "source": [
    "plt.figure(figsize=(5,5))\n",
    "plt.title( '[ Graph 1 ] w 변화에 따른 cost(MSE)변화')\n",
    "plt.xlabel('w'); plt.ylabel('cost')\n",
    "for w in np.linspace(-3,7,50):\n",
    "    c = cost( X, Y, w)\n",
    "    # print( w, c)\n",
    "    plt.plot( w, c, 'mo') \n",
    "plt.show()"
   ]
  },
  {
   "cell_type": "markdown",
   "metadata": {},
   "source": [
    "#### 경사 하강법(Gradient descent)\n",
    "- 경사 하강법(Gradient descent)은 1차 근삿값 발견용 최적화 알고리즘이다. 기본 개념은 함수의 기울기(경사)를 구하고 경사의 절댓값이 낮은 쪽으로 계속 이동시켜 극값에 이를 때까지 반복시킴.\n",
    "- 경사하강법 : https://angeloyeo.github.io/2020/08/16/gradient_descent.html\n",
    "- 경사하강법을 이용한 회귀분석 : https://angeloyeo.github.io/2020/08/24/linear_regression.html"
   ]
  },
  {
   "cell_type": "markdown",
   "metadata": {},
   "source": [
    "$$\\text{cost}(w) := \\frac{1}{2n}\\sum_{i=1}^n (wx_{(i)}-y_{(i)})^2 $$ <br>\n",
    "\\begin{align}\n",
    "w_{(j+1)} := w_{(j)} - \\alpha\\frac{1}{n}\\sum_{i=1}^n (w_{(j)}x_{(i)}-y_{(i)})x_{(i)}=  w_{(j)}- \\alpha\\text{cost}^\\prime(w_{(j)})\n",
    ", \\quad \\alpha = \\text{Learning}\\;\\text{Rate} (\\text{학습률}), \\quad j=0,1,2,...,m\n",
    "\\end{align}\n",
    "\n",
    "$$ *\\text{process}* $$\n",
    "\n",
    "$$w_{(0)} : \\text{initial} \\; \\text{value} $$\n",
    "\n",
    "$$ w_{(1)} := w_{(0)} - \\alpha\\frac{1}{n}\\sum_{i=1}^n (w_{(0)}x_{(i)}-y_{(i)})x_{(i)}=  w_{(0)}- \\alpha{\\text{cost}^\\prime(w_{(0)})} $$\n",
    "\n",
    "$$ w_{(2)} := w_{(1)} - \\alpha\\frac{1}{n}\\sum_{i=1}^n (w_{(1)}x_{(i)}-y_{(i)})x_{(i)}=  w_{(1)}- \\alpha{\\text{cost}^\\prime(w_{(1)})} $$\n",
    "\n",
    "$$ w_{(3)} := w_{(2)} - \\alpha\\frac{1}{n}\\sum_{i=1}^n (w_{(2)}x_{(i)}-y_{(i)})x_{(i)}=  w_{(2)}- \\alpha{\\text{cost}^\\prime(w_{(2)})} $$\n",
    "\n",
    "$$ \\vdots  \\; \\text{update} \\; \\text{until}  \\; \\text{converge} $$\n",
    "\n",
    "$$ w_{(m)} := w_{(m-1)} - \\alpha\\frac{1}{n}\\sum_{i=1}^n (w_{(m-1)}x_{(i)}-y_{(i)})x_{(i)}=  w_{(2)}- \\alpha{\\text{cost}^\\prime(w_{(m-1)})} $$\n"
   ]
  },
  {
   "cell_type": "markdown",
   "metadata": {},
   "source": [
    "#### 𝐿𝑒𝑎𝑟𝑛𝑖𝑛𝑔 𝑅𝑎𝑡𝑒(학습률)"
   ]
  },
  {
   "cell_type": "code",
   "execution_count": 13,
   "metadata": {},
   "outputs": [
    {
     "data": {
      "text/html": [
       "<img src=\"https://www.deeplearningwizard.com/deep_learning/boosting_models_pytorch/images/lr1.png\"/>"
      ],
      "text/plain": [
       "<IPython.core.display.Image object>"
      ]
     },
     "execution_count": 13,
     "metadata": {},
     "output_type": "execute_result"
    }
   ],
   "source": [
    "Image(url='https://www.deeplearningwizard.com/deep_learning/boosting_models_pytorch/images/lr1.png')"
   ]
  },
  {
   "cell_type": "code",
   "execution_count": 14,
   "metadata": {},
   "outputs": [],
   "source": [
    "def gradient_descent( x, y, w ):\n",
    "    c = 0\n",
    "    for i in range( len(x) ):\n",
    "        hx = w*x[i]\n",
    "        c = c + (hx-y[i])*x[i] \n",
    "    return c / len(x)"
   ]
  },
  {
   "cell_type": "code",
   "execution_count": 15,
   "metadata": {},
   "outputs": [],
   "source": [
    "def show_gradient( x, y, w ):\n",
    "    for iter in range(1,201,1):\n",
    "        c = cost( x, y, w )\n",
    "        g = gradient_descent( x, y, w )\n",
    "        w = w - 0.01*g\n",
    "        print( f'iteraion:{iter}, Cost:{round(c,7)}, w:{round(w,7)},g:{g}' )\n",
    "    print('w:', round(w,7) )"
   ]
  },
  {
   "cell_type": "code",
   "execution_count": 16,
   "metadata": {
    "scrolled": true
   },
   "outputs": [
    {
     "name": "stdout",
     "output_type": "stream",
     "text": [
      "iteraion:1, Cost:38.5, w:2.615,g:38.5\n",
      "iteraion:2, Cost:14.5616625, w:2.378225,g:23.67750000000001\n",
      "iteraion:3, Cost:5.5075848, w:2.2326084,g:14.561662500000002\n",
      "iteraion:4, Cost:2.0831063, w:2.1430542,g:8.955422437499994\n",
      "iteraion:5, Cost:0.7878829, w:2.0879783,g:5.507584799062491\n",
      "iteraion:6, Cost:0.297997, w:2.0541067,g:3.38716465142344\n",
      "iteraion:7, Cost:0.1127099, w:2.0332756,g:2.0831062606254065\n",
      "iteraion:8, Cost:0.0426297, w:2.0204645,g:1.2811103502846177\n",
      "iteraion:9, Cost:0.0161236, w:2.0125857,g:0.7878828654250487\n",
      "iteraion:10, Cost:0.0060984, w:2.0077402,g:0.48454796223641006\n",
      "iteraion:11, Cost:0.0023066, w:2.0047602,g:0.2979969967753961\n",
      "iteraion:12, Cost:0.0008724, w:2.0029275,g:0.18326815301686866\n",
      "iteraion:13, Cost:0.00033, w:2.0018004,g:0.1127099141053776\n",
      "iteraion:14, Cost:0.0001248, w:2.0011073,g:0.06931659717480283\n",
      "iteraion:15, Cost:4.72e-05, w:2.000681,g:0.04262970726250308\n",
      "iteraion:16, Cost:1.79e-05, w:2.0004188,g:0.026217269966432744\n",
      "iteraion:17, Cost:6.8e-06, w:2.0002576,g:0.0161236210293632\n",
      "iteraion:18, Cost:2.6e-06, w:2.0001584,g:0.009916026933053023\n",
      "iteraion:19, Cost:1e-06, w:2.0000974,g:0.00609835656383666\n",
      "iteraion:20, Cost:4e-07, w:2.0000599,g:0.00375048928676609\n",
      "iteraion:21, Cost:1e-07, w:2.0000368,g:0.002306550911350946\n",
      "iteraion:22, Cost:1e-07, w:2.0000227,g:0.0014185288104917148\n",
      "iteraion:23, Cost:0.0, w:2.0000139,g:0.0008723952184476857\n",
      "iteraion:24, Cost:0.0, w:2.0000086,g:0.0005365230593385561\n",
      "iteraion:25, Cost:0.0, w:2.0000053,g:0.00032996168148229365\n",
      "iteraion:26, Cost:0.0, w:2.0000032,g:0.0002029264341077308\n",
      "iteraion:27, Cost:0.0, w:2.000002,g:0.00012479975698078682\n",
      "iteraion:28, Cost:0.0, w:2.0000012,g:7.675185054427658e-05\n",
      "iteraion:29, Cost:0.0, w:2.0000008,g:4.7202388081934996e-05\n",
      "iteraion:30, Cost:0.0, w:2.0000005,g:2.9029468666541546e-05\n",
      "iteraion:31, Cost:0.0, w:2.0000003,g:1.7853123237721036e-05\n",
      "iteraion:32, Cost:0.0, w:2.0000002,g:1.0979670783051176e-05\n",
      "iteraion:33, Cost:0.0, w:2.0000001,g:6.7524975364108284e-06\n",
      "iteraion:34, Cost:0.0, w:2.0000001,g:4.152785986599738e-06\n",
      "iteraion:35, Cost:0.0, w:2.0,g:2.553963380158564e-06\n",
      "iteraion:36, Cost:0.0, w:2.0,g:1.570687473906318e-06\n",
      "iteraion:37, Cost:0.0, w:2.0,g:9.659727903343907e-07\n",
      "iteraion:38, Cost:0.0, w:2.0,g:5.940732734188714e-07\n",
      "iteraion:39, Cost:0.0, w:2.0,g:3.6535506295898303e-07\n",
      "iteraion:40, Cost:0.0, w:2.0,g:2.2469335920760613e-07\n",
      "iteraion:41, Cost:0.0, w:2.0,g:1.3818640689500228e-07\n",
      "iteraion:42, Cost:0.0, w:2.0,g:8.49846450989844e-08\n",
      "iteraion:43, Cost:0.0, w:2.0,g:5.2265559702391326e-08\n",
      "iteraion:44, Cost:0.0, w:2.0,g:3.2143313788424166e-08\n",
      "iteraion:45, Cost:0.0, w:2.0,g:1.976814041348973e-08\n",
      "iteraion:46, Cost:0.0, w:2.0,g:1.2157402018431186e-08\n",
      "iteraion:47, Cost:0.0, w:2.0,g:7.47680832802189e-09\n",
      "iteraion:48, Cost:0.0, w:2.0,g:4.598235880948209e-09\n",
      "iteraion:49, Cost:0.0, w:2.0,g:2.8279156794042137e-09\n",
      "iteraion:50, Cost:0.0, w:2.0,g:1.7391676099265395e-09\n",
      "iteraion:51, Cost:0.0, w:2.0,g:1.0695837104890415e-09\n",
      "iteraion:52, Cost:0.0, w:2.0,g:6.577890676595644e-10\n",
      "iteraion:53, Cost:0.0, w:2.0,g:4.045434653932034e-10\n",
      "iteraion:54, Cost:0.0, w:2.0,g:2.4878530346938985e-10\n",
      "iteraion:55, Cost:0.0, w:2.0,g:1.5300600786360975e-10\n",
      "iteraion:56, Cost:0.0, w:2.0,g:9.410427992406767e-11\n",
      "iteraion:57, Cost:0.0, w:2.0,g:5.7874283143632967e-11\n",
      "iteraion:58, Cost:0.0, w:2.0,g:3.559446071221828e-11\n",
      "iteraion:59, Cost:0.0, w:2.0,g:2.1884716261411086e-11\n",
      "iteraion:60, Cost:0.0, w:2.0,g:1.3454615199748331e-11\n",
      "iteraion:61, Cost:0.0, w:2.0,g:8.273559615190607e-12\n",
      "iteraion:62, Cost:0.0, w:2.0,g:5.092637422876578e-12\n",
      "iteraion:63, Cost:0.0, w:2.0,g:3.129363435050436e-12\n",
      "iteraion:64, Cost:0.0, w:2.0,g:1.9314772004008774e-12\n",
      "iteraion:65, Cost:0.0, w:2.0,g:1.1992185022791091e-12\n",
      "iteraion:66, Cost:0.0, w:2.0,g:7.341238728031385e-13\n",
      "iteraion:67, Cost:0.0, w:2.0,g:4.4213521732672235e-13\n",
      "iteraion:68, Cost:0.0, w:2.0,g:2.7355895326763857e-13\n",
      "iteraion:69, Cost:0.0, w:2.0,g:1.6857626405908378e-13\n",
      "iteraion:70, Cost:0.0, w:2.0,g:1.049826892085548e-13\n",
      "iteraion:71, Cost:0.0, w:2.0,g:6.679101716144942e-14\n",
      "iteraion:72, Cost:0.0, w:2.0,g:3.179678742526448e-14\n",
      "iteraion:73, Cost:0.0, w:2.0,g:1.6564527527407334e-14\n",
      "iteraion:74, Cost:0.0, w:2.0,g:1.6564527527407334e-14\n",
      "iteraion:75, Cost:0.0, w:2.0,g:1.6564527527407334e-14\n",
      "iteraion:76, Cost:0.0, w:2.0,g:1.6564527527407334e-14\n",
      "iteraion:77, Cost:0.0, w:2.0,g:1.6564527527407334e-14\n",
      "iteraion:78, Cost:0.0, w:2.0,g:1.6564527527407334e-14\n",
      "iteraion:79, Cost:0.0, w:2.0,g:1.6564527527407334e-14\n",
      "iteraion:80, Cost:0.0, w:2.0,g:1.6564527527407334e-14\n",
      "iteraion:81, Cost:0.0, w:2.0,g:1.6564527527407334e-14\n",
      "iteraion:82, Cost:0.0, w:2.0,g:1.6564527527407334e-14\n",
      "iteraion:83, Cost:0.0, w:2.0,g:1.6564527527407334e-14\n",
      "iteraion:84, Cost:0.0, w:2.0,g:1.6564527527407334e-14\n",
      "iteraion:85, Cost:0.0, w:2.0,g:1.6564527527407334e-14\n",
      "iteraion:86, Cost:0.0, w:2.0,g:1.6564527527407334e-14\n",
      "iteraion:87, Cost:0.0, w:2.0,g:1.6564527527407334e-14\n",
      "iteraion:88, Cost:0.0, w:2.0,g:1.6564527527407334e-14\n",
      "iteraion:89, Cost:0.0, w:2.0,g:1.6564527527407334e-14\n",
      "iteraion:90, Cost:0.0, w:2.0,g:1.6564527527407334e-14\n",
      "iteraion:91, Cost:0.0, w:2.0,g:1.6564527527407334e-14\n",
      "iteraion:92, Cost:0.0, w:2.0,g:1.6564527527407334e-14\n",
      "iteraion:93, Cost:0.0, w:2.0,g:1.6564527527407334e-14\n",
      "iteraion:94, Cost:0.0, w:2.0,g:1.6564527527407334e-14\n",
      "iteraion:95, Cost:0.0, w:2.0,g:1.6564527527407334e-14\n",
      "iteraion:96, Cost:0.0, w:2.0,g:1.6564527527407334e-14\n",
      "iteraion:97, Cost:0.0, w:2.0,g:1.6564527527407334e-14\n",
      "iteraion:98, Cost:0.0, w:2.0,g:1.6564527527407334e-14\n",
      "iteraion:99, Cost:0.0, w:2.0,g:1.6564527527407334e-14\n",
      "iteraion:100, Cost:0.0, w:2.0,g:1.6564527527407334e-14\n",
      "iteraion:101, Cost:0.0, w:2.0,g:1.6564527527407334e-14\n",
      "iteraion:102, Cost:0.0, w:2.0,g:1.6564527527407334e-14\n",
      "iteraion:103, Cost:0.0, w:2.0,g:1.6564527527407334e-14\n",
      "iteraion:104, Cost:0.0, w:2.0,g:1.6564527527407334e-14\n",
      "iteraion:105, Cost:0.0, w:2.0,g:1.6564527527407334e-14\n",
      "iteraion:106, Cost:0.0, w:2.0,g:1.6564527527407334e-14\n",
      "iteraion:107, Cost:0.0, w:2.0,g:1.6564527527407334e-14\n",
      "iteraion:108, Cost:0.0, w:2.0,g:1.6564527527407334e-14\n",
      "iteraion:109, Cost:0.0, w:2.0,g:1.6564527527407334e-14\n",
      "iteraion:110, Cost:0.0, w:2.0,g:1.6564527527407334e-14\n",
      "iteraion:111, Cost:0.0, w:2.0,g:1.6564527527407334e-14\n",
      "iteraion:112, Cost:0.0, w:2.0,g:1.6564527527407334e-14\n",
      "iteraion:113, Cost:0.0, w:2.0,g:1.6564527527407334e-14\n",
      "iteraion:114, Cost:0.0, w:2.0,g:1.6564527527407334e-14\n",
      "iteraion:115, Cost:0.0, w:2.0,g:1.6564527527407334e-14\n",
      "iteraion:116, Cost:0.0, w:2.0,g:1.6564527527407334e-14\n",
      "iteraion:117, Cost:0.0, w:2.0,g:1.6564527527407334e-14\n",
      "iteraion:118, Cost:0.0, w:2.0,g:1.6564527527407334e-14\n",
      "iteraion:119, Cost:0.0, w:2.0,g:1.6564527527407334e-14\n",
      "iteraion:120, Cost:0.0, w:2.0,g:1.6564527527407334e-14\n",
      "iteraion:121, Cost:0.0, w:2.0,g:1.6564527527407334e-14\n",
      "iteraion:122, Cost:0.0, w:2.0,g:1.6564527527407334e-14\n",
      "iteraion:123, Cost:0.0, w:2.0,g:1.6564527527407334e-14\n",
      "iteraion:124, Cost:0.0, w:2.0,g:1.6564527527407334e-14\n",
      "iteraion:125, Cost:0.0, w:2.0,g:1.6564527527407334e-14\n",
      "iteraion:126, Cost:0.0, w:2.0,g:1.6564527527407334e-14\n",
      "iteraion:127, Cost:0.0, w:2.0,g:1.6564527527407334e-14\n",
      "iteraion:128, Cost:0.0, w:2.0,g:1.6564527527407334e-14\n",
      "iteraion:129, Cost:0.0, w:2.0,g:1.6564527527407334e-14\n",
      "iteraion:130, Cost:0.0, w:2.0,g:1.6564527527407334e-14\n",
      "iteraion:131, Cost:0.0, w:2.0,g:1.6564527527407334e-14\n",
      "iteraion:132, Cost:0.0, w:2.0,g:1.6564527527407334e-14\n",
      "iteraion:133, Cost:0.0, w:2.0,g:1.6564527527407334e-14\n",
      "iteraion:134, Cost:0.0, w:2.0,g:1.6564527527407334e-14\n",
      "iteraion:135, Cost:0.0, w:2.0,g:1.6564527527407334e-14\n",
      "iteraion:136, Cost:0.0, w:2.0,g:1.6564527527407334e-14\n",
      "iteraion:137, Cost:0.0, w:2.0,g:1.6564527527407334e-14\n",
      "iteraion:138, Cost:0.0, w:2.0,g:1.6564527527407334e-14\n",
      "iteraion:139, Cost:0.0, w:2.0,g:1.6564527527407334e-14\n",
      "iteraion:140, Cost:0.0, w:2.0,g:1.6564527527407334e-14\n",
      "iteraion:141, Cost:0.0, w:2.0,g:1.6564527527407334e-14\n",
      "iteraion:142, Cost:0.0, w:2.0,g:1.6564527527407334e-14\n",
      "iteraion:143, Cost:0.0, w:2.0,g:1.6564527527407334e-14\n",
      "iteraion:144, Cost:0.0, w:2.0,g:1.6564527527407334e-14\n",
      "iteraion:145, Cost:0.0, w:2.0,g:1.6564527527407334e-14\n",
      "iteraion:146, Cost:0.0, w:2.0,g:1.6564527527407334e-14\n",
      "iteraion:147, Cost:0.0, w:2.0,g:1.6564527527407334e-14\n",
      "iteraion:148, Cost:0.0, w:2.0,g:1.6564527527407334e-14\n",
      "iteraion:149, Cost:0.0, w:2.0,g:1.6564527527407334e-14\n",
      "iteraion:150, Cost:0.0, w:2.0,g:1.6564527527407334e-14\n",
      "iteraion:151, Cost:0.0, w:2.0,g:1.6564527527407334e-14\n",
      "iteraion:152, Cost:0.0, w:2.0,g:1.6564527527407334e-14\n",
      "iteraion:153, Cost:0.0, w:2.0,g:1.6564527527407334e-14\n",
      "iteraion:154, Cost:0.0, w:2.0,g:1.6564527527407334e-14\n",
      "iteraion:155, Cost:0.0, w:2.0,g:1.6564527527407334e-14\n",
      "iteraion:156, Cost:0.0, w:2.0,g:1.6564527527407334e-14\n",
      "iteraion:157, Cost:0.0, w:2.0,g:1.6564527527407334e-14\n",
      "iteraion:158, Cost:0.0, w:2.0,g:1.6564527527407334e-14\n",
      "iteraion:159, Cost:0.0, w:2.0,g:1.6564527527407334e-14\n",
      "iteraion:160, Cost:0.0, w:2.0,g:1.6564527527407334e-14\n",
      "iteraion:161, Cost:0.0, w:2.0,g:1.6564527527407334e-14\n",
      "iteraion:162, Cost:0.0, w:2.0,g:1.6564527527407334e-14\n",
      "iteraion:163, Cost:0.0, w:2.0,g:1.6564527527407334e-14\n",
      "iteraion:164, Cost:0.0, w:2.0,g:1.6564527527407334e-14\n",
      "iteraion:165, Cost:0.0, w:2.0,g:1.6564527527407334e-14\n",
      "iteraion:166, Cost:0.0, w:2.0,g:1.6564527527407334e-14\n",
      "iteraion:167, Cost:0.0, w:2.0,g:1.6564527527407334e-14\n",
      "iteraion:168, Cost:0.0, w:2.0,g:1.6564527527407334e-14\n",
      "iteraion:169, Cost:0.0, w:2.0,g:1.6564527527407334e-14\n",
      "iteraion:170, Cost:0.0, w:2.0,g:1.6564527527407334e-14\n",
      "iteraion:171, Cost:0.0, w:2.0,g:1.6564527527407334e-14\n",
      "iteraion:172, Cost:0.0, w:2.0,g:1.6564527527407334e-14\n",
      "iteraion:173, Cost:0.0, w:2.0,g:1.6564527527407334e-14\n",
      "iteraion:174, Cost:0.0, w:2.0,g:1.6564527527407334e-14\n",
      "iteraion:175, Cost:0.0, w:2.0,g:1.6564527527407334e-14\n",
      "iteraion:176, Cost:0.0, w:2.0,g:1.6564527527407334e-14\n",
      "iteraion:177, Cost:0.0, w:2.0,g:1.6564527527407334e-14\n",
      "iteraion:178, Cost:0.0, w:2.0,g:1.6564527527407334e-14\n",
      "iteraion:179, Cost:0.0, w:2.0,g:1.6564527527407334e-14\n",
      "iteraion:180, Cost:0.0, w:2.0,g:1.6564527527407334e-14\n",
      "iteraion:181, Cost:0.0, w:2.0,g:1.6564527527407334e-14\n",
      "iteraion:182, Cost:0.0, w:2.0,g:1.6564527527407334e-14\n",
      "iteraion:183, Cost:0.0, w:2.0,g:1.6564527527407334e-14\n",
      "iteraion:184, Cost:0.0, w:2.0,g:1.6564527527407334e-14\n",
      "iteraion:185, Cost:0.0, w:2.0,g:1.6564527527407334e-14\n",
      "iteraion:186, Cost:0.0, w:2.0,g:1.6564527527407334e-14\n",
      "iteraion:187, Cost:0.0, w:2.0,g:1.6564527527407334e-14\n",
      "iteraion:188, Cost:0.0, w:2.0,g:1.6564527527407334e-14\n",
      "iteraion:189, Cost:0.0, w:2.0,g:1.6564527527407334e-14\n",
      "iteraion:190, Cost:0.0, w:2.0,g:1.6564527527407334e-14\n",
      "iteraion:191, Cost:0.0, w:2.0,g:1.6564527527407334e-14\n",
      "iteraion:192, Cost:0.0, w:2.0,g:1.6564527527407334e-14\n",
      "iteraion:193, Cost:0.0, w:2.0,g:1.6564527527407334e-14\n",
      "iteraion:194, Cost:0.0, w:2.0,g:1.6564527527407334e-14\n",
      "iteraion:195, Cost:0.0, w:2.0,g:1.6564527527407334e-14\n",
      "iteraion:196, Cost:0.0, w:2.0,g:1.6564527527407334e-14\n",
      "iteraion:197, Cost:0.0, w:2.0,g:1.6564527527407334e-14\n",
      "iteraion:198, Cost:0.0, w:2.0,g:1.6564527527407334e-14\n",
      "iteraion:199, Cost:0.0, w:2.0,g:1.6564527527407334e-14\n",
      "iteraion:200, Cost:0.0, w:2.0,g:1.6564527527407334e-14\n",
      "w: 2.0\n"
     ]
    }
   ],
   "source": [
    "show_gradient( X, Y, 3 )"
   ]
  },
  {
   "cell_type": "code",
   "execution_count": 17,
   "metadata": {},
   "outputs": [
    {
     "data": {
      "image/png": "[encoded data removed]",
      "text/plain": [
       "<Figure size 360x360 with 1 Axes>"
      ]
     },
     "metadata": {
      "needs_background": "light"
     },
     "output_type": "display_data"
    }
   ],
   "source": [
    "plt.figure(figsize=(5,5))\n",
    "plt.xlabel('iteration'); plt.ylabel('cost derivative')\n",
    "for iter in range(1,201,1):\n",
    "    g = gradient_descent( X, Y, w )\n",
    "    w = w - 0.01*g\n",
    "    # print(g)\n",
    "    plt.plot( iter, g, 'mo--') \n",
    "plt.show()"
   ]
  },
  {
   "cell_type": "markdown",
   "metadata": {},
   "source": [
    "$  Result : \\hat{h(x)}= \\hat{y} = 2x $"
   ]
  },
  {
   "cell_type": "markdown",
   "metadata": {},
   "source": [
    "#### 3. 삼성전자주가중 2020년 종가 표본 100개를 추출하여 2020년 종가의 평균을 신뢰도 95% 로 추정하시요."
   ]
  },
  {
   "cell_type": "code",
   "execution_count": 18,
   "metadata": {},
   "outputs": [
    {
     "data": {
      "text/plain": [
       "(Date\n",
       " 2020-01-02    55200.0\n",
       " 2020-01-03    55500.0\n",
       " 2020-01-06    55500.0\n",
       " 2020-01-07    55800.0\n",
       " 2020-01-08    56800.0\n",
       " Name: Close, dtype: float64,\n",
       " Date\n",
       " 2020-12-23    73900.0\n",
       " 2020-12-24    77800.0\n",
       " 2020-12-28    78700.0\n",
       " 2020-12-29    78300.0\n",
       " 2020-12-30    81000.0\n",
       " Name: Close, dtype: float64)"
      ]
     },
     "execution_count": 18,
     "metadata": {},
     "output_type": "execute_result"
    }
   ],
   "source": [
    "samsungdf = data.get_data_yahoo('005930.KS','2017-01-01' )\n",
    "df2020    = samsungdf['2020']['Close']\n",
    "df2020.head(), df2020.tail()"
   ]
  },
  {
   "cell_type": "markdown",
   "metadata": {},
   "source": [
    "- way1"
   ]
  },
  {
   "cell_type": "code",
   "execution_count": 19,
   "metadata": {},
   "outputs": [
    {
     "name": "stdout",
     "output_type": "stream",
     "text": [
      "56113.08339603988 <= 모평균(m) <= 58985.91660396012\n",
      "\n",
      "* 2020년 삼성전자 평균종가(m)에 대한 95% 신뢰구간은 56113.08원 사이에서 58985.92원 사이에 존재한다.\n"
     ]
    }
   ],
   "source": [
    "np.random.seed(1)\n",
    "n       = 100\n",
    "sample  = np.random.choice( df2020 , n )\n",
    "xbar    = sample.mean()\n",
    "sigma   = sample.std()\n",
    "CI      = st.norm.interval(0.95, loc=xbar, scale=sigma/math.sqrt(n)) # scale=st.sem( sample, ddof=0 )\n",
    "print( f'{CI[0]} <= 모평균(m) <= {CI[1]}')\n",
    "print('')\n",
    "print(f'* 2020년 삼성전자 평균종가(m)에 대한 95% 신뢰구간은 {CI[0].round(2)}원 사이에서 {CI[1].round(2)}원 사이에 존재한다.')"
   ]
  },
  {
   "cell_type": "markdown",
   "metadata": {},
   "source": [
    "- way2"
   ]
  },
  {
   "cell_type": "code",
   "execution_count": 20,
   "metadata": {},
   "outputs": [],
   "source": [
    "def CI(x, z, s, n):\n",
    "    L = x - z*( s/math.sqrt(n) )\n",
    "    U = x + z*( s/math.sqrt(n) )\n",
    "    print( ( L, U ) )\n",
    "    print('신뢰구간의 길이:', round(U-L, 3) )"
   ]
  },
  {
   "cell_type": "code",
   "execution_count": 21,
   "metadata": {},
   "outputs": [
    {
     "name": "stdout",
     "output_type": "stream",
     "text": [
      "(56113.0570010627, 58985.9429989373)\n",
      "신뢰구간의 길이: 2872.886\n"
     ]
    }
   ],
   "source": [
    "x = xbar\n",
    "z = 1.96\n",
    "s = sigma\n",
    "n = 100\n",
    "CI(x, z, s, n)"
   ]
  },
  {
   "cell_type": "markdown",
   "metadata": {},
   "source": [
    "#### 4. 2020년도 삼성전자 종가 표본크기가 20인 표본 100개를 추출하여 표본평균의 평균, 표본평균의 분산, 표본평균의 편차를 구하시요."
   ]
  },
  {
   "cell_type": "code",
   "execution_count": 22,
   "metadata": {
    "scrolled": true
   },
   "outputs": [
    {
     "data": {
      "image/png": "[encoded data removed]",
      "text/plain": [
       "<IPython.core.display.Image object>"
      ]
     },
     "execution_count": 22,
     "metadata": {},
     "output_type": "execute_result"
    }
   ],
   "source": [
    "Image('data3/sample.png')"
   ]
  },
  {
   "cell_type": "code",
   "execution_count": 23,
   "metadata": {},
   "outputs": [
    {
     "data": {
      "text/plain": [
       "100"
      ]
     },
     "execution_count": 23,
     "metadata": {},
     "output_type": "execute_result"
    }
   ],
   "source": [
    "len(sample)   # from problem 3 , 표본집단(x1,x2,......x100)"
   ]
  },
  {
   "cell_type": "code",
   "execution_count": 24,
   "metadata": {},
   "outputs": [],
   "source": [
    "np.random.seed(1)\n",
    "size        = 20\n",
    "nSample     = 100\n",
    "xbar        = np.array( [np.random.choice( sample, size ).mean() for _ in range(nSample)] )"
   ]
  },
  {
   "cell_type": "markdown",
   "metadata": {},
   "source": [
    "- 표본평균의 평균"
   ]
  },
  {
   "cell_type": "code",
   "execution_count": 25,
   "metadata": {},
   "outputs": [
    {
     "data": {
      "text/plain": [
       "57609.05"
      ]
     },
     "execution_count": 25,
     "metadata": {},
     "output_type": "execute_result"
    }
   ],
   "source": [
    "xbar.mean()"
   ]
  },
  {
   "cell_type": "markdown",
   "metadata": {},
   "source": [
    "- 표본평균의 분산"
   ]
  },
  {
   "cell_type": "code",
   "execution_count": 26,
   "metadata": {},
   "outputs": [
    {
     "data": {
      "text/plain": [
       "2646991.7225"
      ]
     },
     "execution_count": 26,
     "metadata": {},
     "output_type": "execute_result"
    }
   ],
   "source": [
    "xbar.var()"
   ]
  },
  {
   "cell_type": "markdown",
   "metadata": {},
   "source": [
    "- 표본평균의 표준편차(SEM : standard error of the mean) = (평균의) 표준오차 "
   ]
  },
  {
   "cell_type": "code",
   "execution_count": 27,
   "metadata": {},
   "outputs": [
    {
     "data": {
      "text/plain": [
       "1638.7674446058536"
      ]
     },
     "execution_count": 27,
     "metadata": {},
     "output_type": "execute_result"
    }
   ],
   "source": [
    "sample.std()/ math.sqrt(size)"
   ]
  },
  {
   "cell_type": "code",
   "execution_count": 28,
   "metadata": {},
   "outputs": [
    {
     "data": {
      "text/plain": [
       "1626.957812145109"
      ]
     },
     "execution_count": 28,
     "metadata": {},
     "output_type": "execute_result"
    }
   ],
   "source": [
    "xbar.std()"
   ]
  },
  {
   "cell_type": "markdown",
   "metadata": {},
   "source": [
    "#### 5. 어느 회사에서 생산하는 전자제품의 평균수명을 조사하기 위하여, 표본 100개를 뽑았더니 평균은 800일이 나왔다.  그리고 과거의 자료를 분석한 결과 모표준편차(σ)는 40일이라고 한다. 이때 전자제품의 평균수명에 대한 95%의 신뢰구간을 구하시오."
   ]
  },
  {
   "cell_type": "code",
   "execution_count": 29,
   "metadata": {},
   "outputs": [
    {
     "name": "stdout",
     "output_type": "stream",
     "text": [
      "(792.16, 807.84)\n",
      "신뢰구간의 길이: 15.68\n"
     ]
    }
   ],
   "source": [
    "x = 800\n",
    "z = 1.96\n",
    "s = 40\n",
    "n = 100\n",
    "CI(x, z, s, n)"
   ]
  },
  {
   "cell_type": "code",
   "execution_count": 30,
   "metadata": {},
   "outputs": [
    {
     "data": {
      "text/plain": [
       "(792.1601440618398, 807.8398559381602)"
      ]
     },
     "execution_count": 30,
     "metadata": {},
     "output_type": "execute_result"
    }
   ],
   "source": [
    "sigma = 40\n",
    "xbar  = 800\n",
    "N     = 100\n",
    "st.norm.interval( 0.95, loc=xbar, scale=sigma/math.sqrt(N) )"
   ]
  },
  {
   "cell_type": "markdown",
   "metadata": {},
   "source": [
    "#### 6. 우리나라 대학생들의 월 평균용돈을 알아보기 위하여, 대학생 70명을 조사하였더니, 월 평균용돈은 13만 원이 나왔다.  그럼 모표준편차(σ)를 3만 원이라고 가정했을 때, 대학생의 월 평균용돈에 대한 99%의 신뢰구간을 구하시오."
   ]
  },
  {
   "cell_type": "code",
   "execution_count": 31,
   "metadata": {},
   "outputs": [
    {
     "name": "stdout",
     "output_type": "stream",
     "text": [
      "(12.07489305637518, 13.92510694362482)\n",
      "신뢰구간의 길이: 1.85\n"
     ]
    }
   ],
   "source": [
    "x = 13\n",
    "z = 2.58\n",
    "s = 3\n",
    "n = 70\n",
    "CI(x, z, s, n)"
   ]
  },
  {
   "cell_type": "code",
   "execution_count": 32,
   "metadata": {},
   "outputs": [
    {
     "data": {
      "text/plain": [
       "(12.07638853709094, 13.92361146290906)"
      ]
     },
     "execution_count": 32,
     "metadata": {},
     "output_type": "execute_result"
    }
   ],
   "source": [
    "sigma = 3\n",
    "xbar  = 13\n",
    "N     = 70\n",
    "st.norm.interval(0.99, loc=xbar, scale=sigma/math.sqrt(N))"
   ]
  },
  {
   "cell_type": "markdown",
   "metadata": {},
   "source": [
    "#### 7. y = (5x+3)^3 인경우 편미분을 이용하여 미분값 도출과정을 적으시요."
   ]
  },
  {
   "cell_type": "markdown",
   "metadata": {},
   "source": [
    "$$ * \\; \\text{derivative}* $$\n",
    "\n",
    "$$ f(x,y) = (5x+3)^3 - y $$\n",
    "\n",
    "$$ f_x(x,y) = \\dfrac{\\partial f}{\\partial x} = 3(5x+3)^2*\\dfrac{\\partial}{\\partial x} (5x+3)$$\n",
    "\n",
    "$$ = 3(5x+3)^2*5$$\n",
    "\n",
    "$$ = 15(5x+3)^2$$"
   ]
  },
  {
   "cell_type": "markdown",
   "metadata": {},
   "source": [
    "$$ *\\text{Chain} \\; \\text{rule}* $$\n",
    "\n",
    "$${h(x)}={f(g(x))}$$\n",
    "\n",
    "$${h^\\prime(x)}={f^\\prime(g(x))}{g^\\prime(x)}$$\n",
    "\n",
    "$$ {y}={(5x+3)^3} $$\n",
    "\n",
    "$$ {f(x)}={x^3}, \\quad  {g(x)}={5x+3} $$\n",
    "\n",
    "$$ {f^\\prime(x)}={3x^2}, \\quad  {g^\\prime(x)}={5} $$\n",
    "\n",
    "$$ \\therefore {y}={(3)(5x+3)^2(5)}={15(5x+3)^2} $$"
   ]
  }
 ],
 "metadata": {
  "kernelspec": {
   "display_name": "Python 3",
   "language": "python",
   "name": "python3"
  },
  "language_info": {
   "codemirror_mode": {
    "name": "ipython",
    "version": 3
   },
   "file_extension": ".py",
   "mimetype": "text/x-python",
   "name": "python",
   "nbconvert_exporter": "python",
   "pygments_lexer": "ipython3",
   "version": "3.7.6"
  }
 },
 "nbformat": 4,
 "nbformat_minor": 4
}
