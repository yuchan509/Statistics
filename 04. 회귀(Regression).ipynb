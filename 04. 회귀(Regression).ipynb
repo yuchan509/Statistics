{
 "cells": [
  {
   "cell_type": "code",
   "execution_count": 40,
   "metadata": {},
   "outputs": [],
   "source": [
    "import matplotlib.pyplot as plt\n",
    "import pandas as pd\n",
    "import numpy as np\n",
    "import scipy.stats as st"
   ]
  },
  {
   "cell_type": "markdown",
   "metadata": {},
   "source": [
    "### 회귀(Regression)"
   ]
  },
  {
   "cell_type": "markdown",
   "metadata": {},
   "source": [
    "#### 단순 선형 회귀에서 회귀계수 추정 방식\n",
    "- 1. 미분 공식: 회귀계수에 대한 SSE(Sum of Square Error)를 미분 = 0 임을 통해 도출.\n",
    "- 2. 학습 : input initial value(초기값)  ex) w=5 <br>\n",
    "    w = w - a(러닝 메이트)*(w에 대한 미분)"
   ]
  },
  {
   "cell_type": "markdown",
   "metadata": {},
   "source": [
    "#### 1. 미분공식을 통한 추정"
   ]
  },
  {
   "cell_type": "markdown",
   "metadata": {},
   "source": [
    "#### 가설(hypothesis) 설정"
   ]
  },
  {
   "cell_type": "markdown",
   "metadata": {},
   "source": [
    "$H_0$ : 영어점수와 수학점수는 연관성을 가지지 않는다. ( $\\beta_1$ = 0 ) \n",
    "$\\quad$  vs $\\quad$  $H_1$ : 영어점수와 수학점수는 서로 연관성을 가진다. ( $not H_0$ )"
   ]
  },
  {
   "cell_type": "code",
   "execution_count": 5,
   "metadata": {
    "collapsed": true
   },
   "outputs": [
    {
     "name": "stdout",
     "output_type": "stream",
     "text": [
      "<class 'pandas.core.frame.DataFrame'>\n",
      "Int64Index: 50 entries, 1 to 50\n",
      "Data columns (total 2 columns):\n",
      " #   Column       Non-Null Count  Dtype\n",
      "---  ------       --------------  -----\n",
      " 0   english      50 non-null     int64\n",
      " 1   mathematics  50 non-null     int64\n",
      "dtypes: int64(2)\n",
      "memory usage: 1.2 KB\n"
     ]
    },
    {
     "data": {
      "text/html": [
       "<div>\n",
       "<style scoped>\n",
       "    .dataframe tbody tr th:only-of-type {\n",
       "        vertical-align: middle;\n",
       "    }\n",
       "\n",
       "    .dataframe tbody tr th {\n",
       "        vertical-align: top;\n",
       "    }\n",
       "\n",
       "    .dataframe thead th {\n",
       "        text-align: right;\n",
       "    }\n",
       "</style>\n",
       "<table border=\"1\" class=\"dataframe\">\n",
       "  <thead>\n",
       "    <tr style=\"text-align: right;\">\n",
       "      <th></th>\n",
       "      <th>english</th>\n",
       "      <th>mathematics</th>\n",
       "    </tr>\n",
       "    <tr>\n",
       "      <th>student number</th>\n",
       "      <th></th>\n",
       "      <th></th>\n",
       "    </tr>\n",
       "  </thead>\n",
       "  <tbody>\n",
       "    <tr>\n",
       "      <th>1</th>\n",
       "      <td>42</td>\n",
       "      <td>65</td>\n",
       "    </tr>\n",
       "    <tr>\n",
       "      <th>2</th>\n",
       "      <td>69</td>\n",
       "      <td>80</td>\n",
       "    </tr>\n",
       "    <tr>\n",
       "      <th>3</th>\n",
       "      <td>56</td>\n",
       "      <td>63</td>\n",
       "    </tr>\n",
       "    <tr>\n",
       "      <th>4</th>\n",
       "      <td>41</td>\n",
       "      <td>63</td>\n",
       "    </tr>\n",
       "    <tr>\n",
       "      <th>5</th>\n",
       "      <td>57</td>\n",
       "      <td>76</td>\n",
       "    </tr>\n",
       "  </tbody>\n",
       "</table>\n",
       "</div>"
      ],
      "text/plain": [
       "                english  mathematics\n",
       "student number                      \n",
       "1                    42           65\n",
       "2                    69           80\n",
       "3                    56           63\n",
       "4                    41           63\n",
       "5                    57           76"
      ]
     },
     "execution_count": 5,
     "metadata": {},
     "output_type": "execute_result"
    }
   ],
   "source": [
    "df = pd.read_csv( 'data3/ch2_scores_em.csv', index_col='student number')\n",
    "df.info()\n",
    "df.head()"
   ]
  },
  {
   "cell_type": "markdown",
   "metadata": {},
   "source": [
    "#### 회귀분석 결과"
   ]
  },
  {
   "cell_type": "code",
   "execution_count": 58,
   "metadata": {
    "scrolled": false
   },
   "outputs": [
    {
     "name": "stdout",
     "output_type": "stream",
     "text": [
      "기울기   = 0.6214230159505968\n",
      "절편     = 42.601324328804154\n",
      "상관계수 = 0.7237414863069244\n",
      "p값      = 2.8760870522821355e-09\n",
      "표준편차 = 0.08552186247949062\n"
     ]
    }
   ],
   "source": [
    "res = st.linregress( df['english'], df['mathematics'] )\n",
    "print( '기울기   =', res.slope )\n",
    "print( '절편     =', res.intercept )\n",
    "print( '상관계수 =', res.rvalue ) # df.corr()\n",
    "print( 'p값      =', res.pvalue )      # 유의수준 0.05에서 귀무가설 기각.\n",
    "print( '표준편차 =', res.stderr)"
   ]
  },
  {
   "cell_type": "code",
   "execution_count": 57,
   "metadata": {
    "scrolled": false
   },
   "outputs": [
    {
     "data": {
      "image/png": "[encoded data removed]",
      "text/plain": [
       "<Figure size 432x288 with 1 Axes>"
      ]
     },
     "metadata": {
      "needs_background": "light"
     },
     "output_type": "display_data"
    }
   ],
   "source": [
    "plt.xlabel('english'); plt.ylabel('mathematics')\n",
    "plt.scatter( df['english'], df['mathematics'], c='m' )\n",
    "lm = res.slope*df['english'] + res.intercept\n",
    "plt.plot( df['english'], lm, 'b-')\n",
    "plt.show()"
   ]
  },
  {
   "cell_type": "markdown",
   "metadata": {},
   "source": [
    "#### 2. 학습 방식을 통한 추정"
   ]
  },
  {
   "cell_type": "markdown",
   "metadata": {},
   "source": [
    "#### cost (MSE : Mean Square Error) 정의\n",
    "$$cost(w) = \\frac{1}{n}\\sum_{i=1}^n (wx_{(i)}-y_{(i)})^2 $$ <br> $$ where \\quad wx_{(i)} = true\\,obs \\; ,\\, y_{(i)} = estimate\\,of\\, obs$$"
   ]
  },
  {
   "cell_type": "code",
   "execution_count": 7,
   "metadata": {},
   "outputs": [],
   "source": [
    "def cost( x, y, w ):\n",
    "    c=0\n",
    "    for i in np.arange( len(x) ):\n",
    "        hx = w*x[i]\n",
    "        c  = c+( hx-y[i])**2\n",
    "    return c/len(x)"
   ]
  },
  {
   "cell_type": "code",
   "execution_count": null,
   "metadata": {},
   "outputs": [],
   "source": [
    "x_data = [1, 2, 3]\n",
    "y_data = [1, 2, 3]"
   ]
  },
  {
   "cell_type": "code",
   "execution_count": 61,
   "metadata": {},
   "outputs": [
    {
     "data": {
      "image/png": "[encoded data removed]",
      "text/plain": [
       "<Figure size 432x288 with 1 Axes>"
      ]
     },
     "metadata": {
      "needs_background": "light"
     },
     "output_type": "display_data"
    }
   ],
   "source": [
    "plt.scatter(x_data, y_data, c='b');plt.show()"
   ]
  },
  {
   "cell_type": "markdown",
   "metadata": {},
   "source": [
    "#### For 최적의 가중치를 효과적으로 찾기 => MSE를  Convex Function으로 ~"
   ]
  },
  {
   "cell_type": "code",
   "execution_count": 13,
   "metadata": {
    "collapsed": true
   },
   "outputs": [
    {
     "name": "stdout",
     "output_type": "stream",
     "text": [
      "18.666666666666668\n",
      "4.666666666666667\n",
      "0.0\n",
      "4.666666666666667\n",
      "18.666666666666668\n"
     ]
    }
   ],
   "source": [
    "print( cost(x_data, y_data, -1) )\n",
    "print( cost(x_data, y_data, 0) )\n",
    "print( cost(x_data, y_data, 1) )\n",
    "print( cost(x_data, y_data, 2) )\n",
    "print( cost(x_data, y_data, 3) )"
   ]
  },
  {
   "cell_type": "code",
   "execution_count": 60,
   "metadata": {
    "scrolled": true
   },
   "outputs": [
    {
     "data": {
      "image/png": "[encoded data removed]",
      "text/plain": [
       "<Figure size 432x288 with 1 Axes>"
      ]
     },
     "metadata": {
      "needs_background": "light"
     },
     "output_type": "display_data"
    }
   ],
   "source": [
    "for w in np.linspace(-3, 5, 50):\n",
    "    c = cost( x_data, y_data, w)\n",
    "   # print(w, c)\n",
    "    plt.plot( w, c, 'mo')\n",
    "plt.xlabel('w')\n",
    "plt.ylabel('cost')\n",
    "plt.show()"
   ]
  },
  {
   "cell_type": "markdown",
   "metadata": {},
   "source": [
    "#### 경사 하강법(Gradient descent)\n",
    "- 경사 하강법(Gradient descent)은 1차 근삿값 발견용 최적화 알고리즘이다. 기본 개념은 함수의 기울기(경사)를 구하고 경사의 절댓값이 낮은 쪽으로 계속 이동시켜 극값에 이를 때까지 반복시킴.\n",
    "- 경사하강법 : https://angeloyeo.github.io/2020/08/16/gradient_descent.html\n",
    "- 경사하강법을 이용한 회귀분석 : https://angeloyeo.github.io/2020/08/24/linear_regression.html"
   ]
  },
  {
   "cell_type": "markdown",
   "metadata": {},
   "source": [
    "$$cost(w) := \\frac{1}{2n}\\sum_{i=1}^n (wx_{(i)}-y_{(i)})^2 $$ <br>\n",
    "\\begin{align}\n",
    "w_{(j+1)} := w_{(j)} - \\alpha\\frac{1}{n}\\sum_{i=1}^n (w_{(j)}x_{(i)}-y_{(i)})x_{(i)}=  w_{(j)}- \\alpha*cost^\\prime(w_{(j)})\n",
    ", \\quad \\alpha = LearningRate\n",
    "\\end{align}"
   ]
  },
  {
   "cell_type": "code",
   "execution_count": 29,
   "metadata": {},
   "outputs": [],
   "source": [
    "def gradient_descent( x, y, w ):\n",
    "    c = 0\n",
    "    for i in range( len(x) ):\n",
    "        hx = w*x[i]\n",
    "        c = c + (hx-y[i])*x[i] # 편미분\n",
    "    return c / len(x)"
   ]
  },
  {
   "cell_type": "code",
   "execution_count": 35,
   "metadata": {},
   "outputs": [],
   "source": [
    "def show_gradient( x, y, w ):\n",
    "    for i in range(200):\n",
    "        c = cost( x, y, w )\n",
    "        g = gradient_descent( x, y, w)\n",
    "        w = w - 0.1*g\n",
    "        print(i, c, w)\n",
    "    print('w:', w)"
   ]
  },
  {
   "cell_type": "code",
   "execution_count": 36,
   "metadata": {
    "collapsed": true
   },
   "outputs": [
    {
     "name": "stdout",
     "output_type": "stream",
     "text": [
      "0 378.0 5.8\n",
      "1 107.51999999999998 3.56\n",
      "2 30.583466666666666 2.365333333333333\n",
      "3 8.69929718518518 1.7281777777777778\n",
      "4 2.47446675489712 1.3883614814814815\n",
      "5 0.7038483213929583 1.2071261234567903\n",
      "6 0.2002057447517751 1.1104672658436214\n",
      "7 0.05694741184050483 1.0589158751165981\n",
      "8 0.016198374923521403 1.0314218000621858\n",
      "9 0.004607537756023892 1.0167582933664991\n",
      "10 0.0013105885172690224 1.008937756462133\n",
      "11 0.0003727896226898598 1.004766803446471\n",
      "12 0.0001060379371206724 1.002542295171451\n",
      "13 3.0161902114324568e-05 1.0013558907581073\n",
      "14 8.579385490296031e-06 1.0007231417376572\n",
      "15 2.4403585394623746e-06 1.000385675593417\n",
      "16 6.941464290019953e-07 1.0002056936498225\n",
      "17 1.9744609536079287e-07 1.0001097032799053\n",
      "18 5.616244490256599e-08 1.0000585084159495\n",
      "19 1.597509543893363e-08 1.0000312044885065\n",
      "20 4.544027147100321e-09 1.0000166423938701\n",
      "21 1.292523277397425e-09 1.0000088759433974\n",
      "22 3.6765106557353845e-10 1.0000047338364786\n",
      "23 1.0457630309680019e-10 1.0000025247127886\n",
      "24 2.974614843652282e-11 1.0000013465134872\n",
      "25 8.461126664488492e-12 1.0000007181405266\n",
      "26 2.4067204744183466e-12 1.0000003830082809\n",
      "27 6.845782681618235e-13 1.0000002042710832\n",
      "28 1.9472448527085553e-13 1.0000001089445776\n",
      "29 5.538829787885448e-14 1.0000000581037747\n",
      "30 1.575489361658054e-14 1.0000000309886798\n",
      "31 4.481391952569267e-15 1.000000016527296\n",
      "32 1.2747070573345361e-15 1.0000000088145578\n",
      "33 3.6258332831368247e-16 1.0000000047010975\n",
      "34 1.0313481853667948e-16 1.000000002507252\n",
      "35 2.933612341505031e-17 1.000000001337201\n",
      "36 8.344497274162171e-18 1.000000000713174\n",
      "37 2.3735464825145457e-18 1.0000000003803595\n",
      "38 6.751422044227725e-19 1.0000000002028584\n",
      "39 1.920405593646558e-19 1.0000000001081912\n",
      "40 5.462493428133877e-20 1.000000000057702\n",
      "41 1.5537773320496455e-20 1.0000000000307745\n",
      "42 4.419657596231936e-21 1.000000000016413\n",
      "43 1.2571515848923574e-21 1.0000000000087537\n",
      "44 3.5758710617043957e-22 1.0000000000046687\n",
      "45 1.0171864166944069e-22 1.00000000000249\n",
      "46 2.8933990559698716e-23 1.000000000001328\n",
      "47 8.231253103671774e-24 1.0000000000007083\n",
      "48 2.341362175139032e-24 1.0000000000003777\n",
      "49 6.658942698258942e-25 1.0000000000002014\n",
      "50 1.891893061517278e-25 1.0000000000001075\n",
      "51 5.389865839559056e-26 1.0000000000000573\n",
      "52 1.5315340044413334e-26 1.0000000000000306\n",
      "53 4.38172789805011e-27 1.0000000000000164\n",
      "54 1.2599423424554927e-27 1.0000000000000087\n",
      "55 3.46129156767911e-28 1.0000000000000047\n",
      "56 1.0355442841244991e-28 1.0000000000000024\n",
      "57 2.677196697093809e-29 1.0000000000000013\n",
      "58 8.283039504820624e-30 1.0000000000000007\n",
      "59 1.791371638939381e-30 1.0000000000000004\n",
      "60 9.203377227578472e-31 1.0000000000000002\n",
      "61 3.4512664603419266e-31 1.0\n",
      "62 0.0 1.0\n",
      "63 0.0 1.0\n",
      "64 0.0 1.0\n",
      "65 0.0 1.0\n",
      "66 0.0 1.0\n",
      "67 0.0 1.0\n",
      "68 0.0 1.0\n",
      "69 0.0 1.0\n",
      "70 0.0 1.0\n",
      "71 0.0 1.0\n",
      "72 0.0 1.0\n",
      "73 0.0 1.0\n",
      "74 0.0 1.0\n",
      "75 0.0 1.0\n",
      "76 0.0 1.0\n",
      "77 0.0 1.0\n",
      "78 0.0 1.0\n",
      "79 0.0 1.0\n",
      "80 0.0 1.0\n",
      "81 0.0 1.0\n",
      "82 0.0 1.0\n",
      "83 0.0 1.0\n",
      "84 0.0 1.0\n",
      "85 0.0 1.0\n",
      "86 0.0 1.0\n",
      "87 0.0 1.0\n",
      "88 0.0 1.0\n",
      "89 0.0 1.0\n",
      "90 0.0 1.0\n",
      "91 0.0 1.0\n",
      "92 0.0 1.0\n",
      "93 0.0 1.0\n",
      "94 0.0 1.0\n",
      "95 0.0 1.0\n",
      "96 0.0 1.0\n",
      "97 0.0 1.0\n",
      "98 0.0 1.0\n",
      "99 0.0 1.0\n",
      "100 0.0 1.0\n",
      "101 0.0 1.0\n",
      "102 0.0 1.0\n",
      "103 0.0 1.0\n",
      "104 0.0 1.0\n",
      "105 0.0 1.0\n",
      "106 0.0 1.0\n",
      "107 0.0 1.0\n",
      "108 0.0 1.0\n",
      "109 0.0 1.0\n",
      "110 0.0 1.0\n",
      "111 0.0 1.0\n",
      "112 0.0 1.0\n",
      "113 0.0 1.0\n",
      "114 0.0 1.0\n",
      "115 0.0 1.0\n",
      "116 0.0 1.0\n",
      "117 0.0 1.0\n",
      "118 0.0 1.0\n",
      "119 0.0 1.0\n",
      "120 0.0 1.0\n",
      "121 0.0 1.0\n",
      "122 0.0 1.0\n",
      "123 0.0 1.0\n",
      "124 0.0 1.0\n",
      "125 0.0 1.0\n",
      "126 0.0 1.0\n",
      "127 0.0 1.0\n",
      "128 0.0 1.0\n",
      "129 0.0 1.0\n",
      "130 0.0 1.0\n",
      "131 0.0 1.0\n",
      "132 0.0 1.0\n",
      "133 0.0 1.0\n",
      "134 0.0 1.0\n",
      "135 0.0 1.0\n",
      "136 0.0 1.0\n",
      "137 0.0 1.0\n",
      "138 0.0 1.0\n",
      "139 0.0 1.0\n",
      "140 0.0 1.0\n",
      "141 0.0 1.0\n",
      "142 0.0 1.0\n",
      "143 0.0 1.0\n",
      "144 0.0 1.0\n",
      "145 0.0 1.0\n",
      "146 0.0 1.0\n",
      "147 0.0 1.0\n",
      "148 0.0 1.0\n",
      "149 0.0 1.0\n",
      "150 0.0 1.0\n",
      "151 0.0 1.0\n",
      "152 0.0 1.0\n",
      "153 0.0 1.0\n",
      "154 0.0 1.0\n",
      "155 0.0 1.0\n",
      "156 0.0 1.0\n",
      "157 0.0 1.0\n",
      "158 0.0 1.0\n",
      "159 0.0 1.0\n",
      "160 0.0 1.0\n",
      "161 0.0 1.0\n",
      "162 0.0 1.0\n",
      "163 0.0 1.0\n",
      "164 0.0 1.0\n",
      "165 0.0 1.0\n",
      "166 0.0 1.0\n",
      "167 0.0 1.0\n",
      "168 0.0 1.0\n",
      "169 0.0 1.0\n",
      "170 0.0 1.0\n",
      "171 0.0 1.0\n",
      "172 0.0 1.0\n",
      "173 0.0 1.0\n",
      "174 0.0 1.0\n",
      "175 0.0 1.0\n",
      "176 0.0 1.0\n",
      "177 0.0 1.0\n",
      "178 0.0 1.0\n",
      "179 0.0 1.0\n",
      "180 0.0 1.0\n",
      "181 0.0 1.0\n",
      "182 0.0 1.0\n",
      "183 0.0 1.0\n",
      "184 0.0 1.0\n",
      "185 0.0 1.0\n",
      "186 0.0 1.0\n",
      "187 0.0 1.0\n",
      "188 0.0 1.0\n",
      "189 0.0 1.0\n",
      "190 0.0 1.0\n",
      "191 0.0 1.0\n",
      "192 0.0 1.0\n",
      "193 0.0 1.0\n",
      "194 0.0 1.0\n",
      "195 0.0 1.0\n",
      "196 0.0 1.0\n",
      "197 0.0 1.0\n",
      "198 0.0 1.0\n",
      "199 0.0 1.0\n",
      "w: 1.0\n"
     ]
    }
   ],
   "source": [
    "show_gradient( x_data, y_data, 10 )"
   ]
  }
 ],
 "metadata": {
  "kernelspec": {
   "display_name": "Python 3",
   "language": "python",
   "name": "python3"
  },
  "language_info": {
   "codemirror_mode": {
    "name": "ipython",
    "version": 3
   },
   "file_extension": ".py",
   "mimetype": "text/x-python",
   "name": "python",
   "nbconvert_exporter": "python",
   "pygments_lexer": "ipython3",
   "version": "3.7.6"
  }
 },
 "nbformat": 4,
 "nbformat_minor": 4
}
