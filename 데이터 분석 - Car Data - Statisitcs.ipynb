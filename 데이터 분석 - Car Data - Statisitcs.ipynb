{
 "cells": [
  {
   "cell_type": "code",
   "execution_count": 1,
   "metadata": {},
   "outputs": [],
   "source": [
    "import math\n",
    "import numpy as np\n",
    "import pandas as pd\n",
    "import matplotlib.pyplot as plt\n",
    "import scipy.stats as st\n",
    "from pandas_datareader import data"
   ]
  },
  {
   "cell_type": "markdown",
   "metadata": {},
   "source": [
    "#### 1. cars(x:speed, y:dist) 데이터를 이용하여 회귀계수(기울기,절편) 를 구하시요.\n",
    "#### 공식(B0, B1)을 이용하여 구하시요.( 선형회귀분석.pdf 파일 6페이지공식)"
   ]
  },
  {
   "cell_type": "code",
   "execution_count": 2,
   "metadata": {
    "scrolled": true
   },
   "outputs": [
    {
     "data": {
      "text/html": [
       "<div>\n",
       "<style scoped>\n",
       "    .dataframe tbody tr th:only-of-type {\n",
       "        vertical-align: middle;\n",
       "    }\n",
       "\n",
       "    .dataframe tbody tr th {\n",
       "        vertical-align: top;\n",
       "    }\n",
       "\n",
       "    .dataframe thead th {\n",
       "        text-align: right;\n",
       "    }\n",
       "</style>\n",
       "<table border=\"1\" class=\"dataframe\">\n",
       "  <thead>\n",
       "    <tr style=\"text-align: right;\">\n",
       "      <th></th>\n",
       "      <th>speed</th>\n",
       "      <th>dist</th>\n",
       "    </tr>\n",
       "  </thead>\n",
       "  <tbody>\n",
       "    <tr>\n",
       "      <th>1</th>\n",
       "      <td>4</td>\n",
       "      <td>2</td>\n",
       "    </tr>\n",
       "    <tr>\n",
       "      <th>2</th>\n",
       "      <td>4</td>\n",
       "      <td>10</td>\n",
       "    </tr>\n",
       "    <tr>\n",
       "      <th>3</th>\n",
       "      <td>7</td>\n",
       "      <td>4</td>\n",
       "    </tr>\n",
       "    <tr>\n",
       "      <th>4</th>\n",
       "      <td>7</td>\n",
       "      <td>22</td>\n",
       "    </tr>\n",
       "    <tr>\n",
       "      <th>5</th>\n",
       "      <td>8</td>\n",
       "      <td>16</td>\n",
       "    </tr>\n",
       "  </tbody>\n",
       "</table>\n",
       "</div>"
      ],
      "text/plain": [
       "   speed  dist\n",
       "1      4     2\n",
       "2      4    10\n",
       "3      7     4\n",
       "4      7    22\n",
       "5      8    16"
      ]
     },
     "execution_count": 2,
     "metadata": {},
     "output_type": "execute_result"
    }
   ],
   "source": [
    "df = pd.read_csv( 'data/cars.csv', index_col='Unnamed: 0')\n",
    "df.head()"
   ]
  },
  {
   "cell_type": "code",
   "execution_count": 3,
   "metadata": {},
   "outputs": [],
   "source": [
    "x = df['speed']\n",
    "y = df['dist']\n",
    "def LSE( x, y ):\n",
    "    b1 = np.corrcoef(x, y)[0,1] * y.std() / x.std()\n",
    "    b0 = y.mean() - b1 * x.mean()\n",
    "    return b0, b1"
   ]
  },
  {
   "cell_type": "code",
   "execution_count": 4,
   "metadata": {},
   "outputs": [
    {
     "data": {
      "text/plain": [
       "(-17.57909489051095, 3.9324087591240873)"
      ]
     },
     "execution_count": 4,
     "metadata": {},
     "output_type": "execute_result"
    }
   ],
   "source": [
    "LSE( x, y )"
   ]
  },
  {
   "cell_type": "markdown",
   "metadata": {},
   "source": [
    "#### 2.  x=[1,2,3,4,5,6,7,8,9,10]  ,y=[2,4,6,8,10,12,14,16,18,20] 일때 hx = wx 로 하여 학습방법을 이용하여 w값을 구하시요."
   ]
  },
  {
   "cell_type": "code",
   "execution_count": 5,
   "metadata": {},
   "outputs": [],
   "source": [
    "x = [1,2,3,4,5,6,7,8,9,10]\n",
    "y = [2,4,6,8,10,12,14,16,18,20] "
   ]
  },
  {
   "cell_type": "code",
   "execution_count": 6,
   "metadata": {},
   "outputs": [],
   "source": [
    "def cost( x, y, w ):\n",
    "    c=0\n",
    "    for i in np.arange( len(x) ):\n",
    "        hx = w*x[i]\n",
    "        c  = c+( hx-y[i])**2\n",
    "    return c/len(x)"
   ]
  },
  {
   "cell_type": "code",
   "execution_count": 7,
   "metadata": {},
   "outputs": [],
   "source": [
    "def gradient_descent( x, y, w ):\n",
    "    c = 0\n",
    "    for i in range( len(x) ):\n",
    "        hx = w*x[i]\n",
    "        c = c + (hx-y[i])*x[i] # 편미분\n",
    "    return c / len(x)"
   ]
  },
  {
   "cell_type": "code",
   "execution_count": 8,
   "metadata": {},
   "outputs": [],
   "source": [
    "def show_gradient( x, y, w ):\n",
    "    for iter in range(100):\n",
    "        c = cost( x, y, w )\n",
    "        g = gradient_descent( x, y, w)\n",
    "        w = w - 0.1*g\n",
    "        print(iter, c, w)\n",
    "    print('w:', w)"
   ]
  },
  {
   "cell_type": "code",
   "execution_count": 9,
   "metadata": {},
   "outputs": [
    {
     "name": "stdout",
     "output_type": "stream",
     "text": [
      "0 0.0 2.0\n",
      "1 0.0 2.0\n",
      "2 0.0 2.0\n",
      "3 0.0 2.0\n",
      "4 0.0 2.0\n",
      "5 0.0 2.0\n",
      "6 0.0 2.0\n",
      "7 0.0 2.0\n",
      "8 0.0 2.0\n",
      "9 0.0 2.0\n",
      "10 0.0 2.0\n",
      "11 0.0 2.0\n",
      "12 0.0 2.0\n",
      "13 0.0 2.0\n",
      "14 0.0 2.0\n",
      "15 0.0 2.0\n",
      "16 0.0 2.0\n",
      "17 0.0 2.0\n",
      "18 0.0 2.0\n",
      "19 0.0 2.0\n",
      "20 0.0 2.0\n",
      "21 0.0 2.0\n",
      "22 0.0 2.0\n",
      "23 0.0 2.0\n",
      "24 0.0 2.0\n",
      "25 0.0 2.0\n",
      "26 0.0 2.0\n",
      "27 0.0 2.0\n",
      "28 0.0 2.0\n",
      "29 0.0 2.0\n",
      "30 0.0 2.0\n",
      "31 0.0 2.0\n",
      "32 0.0 2.0\n",
      "33 0.0 2.0\n",
      "34 0.0 2.0\n",
      "35 0.0 2.0\n",
      "36 0.0 2.0\n",
      "37 0.0 2.0\n",
      "38 0.0 2.0\n",
      "39 0.0 2.0\n",
      "40 0.0 2.0\n",
      "41 0.0 2.0\n",
      "42 0.0 2.0\n",
      "43 0.0 2.0\n",
      "44 0.0 2.0\n",
      "45 0.0 2.0\n",
      "46 0.0 2.0\n",
      "47 0.0 2.0\n",
      "48 0.0 2.0\n",
      "49 0.0 2.0\n",
      "50 0.0 2.0\n",
      "51 0.0 2.0\n",
      "52 0.0 2.0\n",
      "53 0.0 2.0\n",
      "54 0.0 2.0\n",
      "55 0.0 2.0\n",
      "56 0.0 2.0\n",
      "57 0.0 2.0\n",
      "58 0.0 2.0\n",
      "59 0.0 2.0\n",
      "60 0.0 2.0\n",
      "61 0.0 2.0\n",
      "62 0.0 2.0\n",
      "63 0.0 2.0\n",
      "64 0.0 2.0\n",
      "65 0.0 2.0\n",
      "66 0.0 2.0\n",
      "67 0.0 2.0\n",
      "68 0.0 2.0\n",
      "69 0.0 2.0\n",
      "70 0.0 2.0\n",
      "71 0.0 2.0\n",
      "72 0.0 2.0\n",
      "73 0.0 2.0\n",
      "74 0.0 2.0\n",
      "75 0.0 2.0\n",
      "76 0.0 2.0\n",
      "77 0.0 2.0\n",
      "78 0.0 2.0\n",
      "79 0.0 2.0\n",
      "80 0.0 2.0\n",
      "81 0.0 2.0\n",
      "82 0.0 2.0\n",
      "83 0.0 2.0\n",
      "84 0.0 2.0\n",
      "85 0.0 2.0\n",
      "86 0.0 2.0\n",
      "87 0.0 2.0\n",
      "88 0.0 2.0\n",
      "89 0.0 2.0\n",
      "90 0.0 2.0\n",
      "91 0.0 2.0\n",
      "92 0.0 2.0\n",
      "93 0.0 2.0\n",
      "94 0.0 2.0\n",
      "95 0.0 2.0\n",
      "96 0.0 2.0\n",
      "97 0.0 2.0\n",
      "98 0.0 2.0\n",
      "99 0.0 2.0\n",
      "w: 2.0\n"
     ]
    }
   ],
   "source": [
    "show_gradient( x, y, 2)"
   ]
  },
  {
   "cell_type": "markdown",
   "metadata": {},
   "source": [
    "#### 3. 삼성전자주가중 2020년 종가 표본 100개를 추출하여 2020년 종가의 평균을 신뢰도 95% 로 추정하시요."
   ]
  },
  {
   "cell_type": "code",
   "execution_count": 10,
   "metadata": {},
   "outputs": [
    {
     "name": "stderr",
     "output_type": "stream",
     "text": [
      "C:\\ProgramData\\Anaconda3\\lib\\site-packages\\ipykernel_launcher.py:2: FutureWarning: Indexing a DataFrame with a datetimelike index using a single string to slice the rows, like `frame[string]`, is deprecated and will be removed in a future version. Use `frame.loc[string]` instead.\n",
      "  \n"
     ]
    }
   ],
   "source": [
    "samsungdf = data.get_data_yahoo('005930.KS','2017-01-01' )\n",
    "df2020    = samsungdf['2020']['Close']"
   ]
  },
  {
   "cell_type": "code",
   "execution_count": 11,
   "metadata": {},
   "outputs": [
    {
     "data": {
      "text/plain": [
       "(54991.04753778796, 57425.95246221204)"
      ]
     },
     "execution_count": 11,
     "metadata": {},
     "output_type": "execute_result"
    }
   ],
   "source": [
    "n       = 100\n",
    "sample  = np.random.choice( df2020 , n )\n",
    "xbar    = sample.mean()\n",
    "sigma   = sample.std()\n",
    "st.norm.interval(0.95, loc=xbar, scale=sigma/math.sqrt(n))"
   ]
  },
  {
   "cell_type": "markdown",
   "metadata": {},
   "source": [
    "#### 4. 2020년도 삼성전자 종가 표본크기가 20인 표본 100개를 추출하여 표본평균의 평균, 표본평균의 분산, 표본평균의 편차를 구하시요."
   ]
  },
  {
   "cell_type": "code",
   "execution_count": 12,
   "metadata": {},
   "outputs": [],
   "source": [
    "size        = 20\n",
    "nSample     = 100\n",
    "xbar        = np.array( [np.random.choice( df2020 , size ).mean() for _ in range(nSample)])"
   ]
  },
  {
   "cell_type": "markdown",
   "metadata": {},
   "source": [
    "#### 표본평균의 평균"
   ]
  },
  {
   "cell_type": "code",
   "execution_count": 13,
   "metadata": {},
   "outputs": [
    {
     "data": {
      "text/plain": [
       "57121.075"
      ]
     },
     "execution_count": 13,
     "metadata": {},
     "output_type": "execute_result"
    }
   ],
   "source": [
    "xbar.mean()"
   ]
  },
  {
   "cell_type": "markdown",
   "metadata": {},
   "source": [
    "#### 표본평균의 분산"
   ]
  },
  {
   "cell_type": "code",
   "execution_count": 14,
   "metadata": {
    "scrolled": true
   },
   "outputs": [
    {
     "data": {
      "text/plain": [
       "2320711.906875"
      ]
     },
     "execution_count": 14,
     "metadata": {},
     "output_type": "execute_result"
    }
   ],
   "source": [
    "xbar.var()"
   ]
  },
  {
   "cell_type": "markdown",
   "metadata": {},
   "source": [
    "#### 표본평균의 편차(SEM : standard error of the mean) = (평균의) 표준오차 "
   ]
  },
  {
   "cell_type": "code",
   "execution_count": 15,
   "metadata": {},
   "outputs": [
    {
     "data": {
      "text/plain": [
       "1577.5959863830142"
      ]
     },
     "execution_count": 15,
     "metadata": {},
     "output_type": "execute_result"
    }
   ],
   "source": [
    "df2020.std()/ math.sqrt(size)"
   ]
  },
  {
   "cell_type": "markdown",
   "metadata": {},
   "source": [
    "#### 5. 어느 회사에서 생산하는 전자제품의 평균수명을 조사하기 위하여, 표본 100개를 뽑았더니 평균은 800일이 나왔다. \n",
    "#### 그리고 과거의 자료를 분석한 결과 모표준편차(σ)는 40일이라고 한다. 이때 전자제품의 평균수명에 대한 95%의 신뢰구간을 구하시오."
   ]
  },
  {
   "cell_type": "code",
   "execution_count": 16,
   "metadata": {},
   "outputs": [],
   "source": [
    "def CI(x, z, s, n):\n",
    "    L = x - z*( s/math.sqrt(n) )\n",
    "    U = x + z*( s/math.sqrt(n) )\n",
    "    print( (L,U) )\n",
    "    print('신뢰구간의 길이:',U-L)"
   ]
  },
  {
   "cell_type": "code",
   "execution_count": 17,
   "metadata": {},
   "outputs": [
    {
     "name": "stdout",
     "output_type": "stream",
     "text": [
      "(792.16, 807.84)\n",
      "신뢰구간의 길이: 15.680000000000064\n"
     ]
    }
   ],
   "source": [
    "x = 800\n",
    "z = 1.96\n",
    "s = 40\n",
    "n = 100\n",
    "CI(x, z, s, n)"
   ]
  },
  {
   "cell_type": "code",
   "execution_count": 18,
   "metadata": {},
   "outputs": [
    {
     "data": {
      "text/plain": [
       "(792.1601440618398, 807.8398559381602)"
      ]
     },
     "execution_count": 18,
     "metadata": {},
     "output_type": "execute_result"
    }
   ],
   "source": [
    "sigma = 40\n",
    "xbar  = 800\n",
    "N     = 100\n",
    "st.norm.interval(0.95, loc=xbar, scale=sigma/math.sqrt(N))"
   ]
  },
  {
   "cell_type": "markdown",
   "metadata": {},
   "source": [
    "#### 6. 우리나라 대학생들의 월 평균용돈을 알아보기 위하여, 대학생 70명을 조사하였더니, 월 평균용돈은 13만 원이 나왔다. \n",
    "#### 그럼 모표준편차(σ)를 3만 원이라고 가정했을 때, 대학생의 월 평균용돈에 대한 99%의 신뢰구간을 구하시오."
   ]
  },
  {
   "cell_type": "code",
   "execution_count": 19,
   "metadata": {},
   "outputs": [
    {
     "name": "stdout",
     "output_type": "stream",
     "text": [
      "(12.07489305637518, 13.92510694362482)\n",
      "신뢰구간의 길이: 1.850213887249641\n"
     ]
    }
   ],
   "source": [
    "x = 13\n",
    "z = 2.58\n",
    "s = 3\n",
    "n = 70\n",
    "CI(x, z, s, n)"
   ]
  },
  {
   "cell_type": "code",
   "execution_count": 20,
   "metadata": {},
   "outputs": [
    {
     "data": {
      "text/plain": [
       "(12.07638853709094, 13.92361146290906)"
      ]
     },
     "execution_count": 20,
     "metadata": {},
     "output_type": "execute_result"
    }
   ],
   "source": [
    "sigma = 3\n",
    "xbar  = 13\n",
    "N     = 70\n",
    "st.norm.interval(0.99, loc=xbar, scale=sigma/math.sqrt(N))"
   ]
  },
  {
   "cell_type": "markdown",
   "metadata": {},
   "source": [
    "#### 7. y = (5x+3)^3 인경우 편미분을 이용하여 미분값 도출과정을 적으시요."
   ]
  },
  {
   "cell_type": "markdown",
   "metadata": {},
   "source": [
    "$$ y = 15(5x + 3)^3  $$"
   ]
  }
 ],
 "metadata": {
  "kernelspec": {
   "display_name": "Python 3",
   "language": "python",
   "name": "python3"
  },
  "language_info": {
   "codemirror_mode": {
    "name": "ipython",
    "version": 3
   },
   "file_extension": ".py",
   "mimetype": "text/x-python",
   "name": "python",
   "nbconvert_exporter": "python",
   "pygments_lexer": "ipython3",
   "version": "3.7.6"
  }
 },
 "nbformat": 4,
 "nbformat_minor": 4
}
