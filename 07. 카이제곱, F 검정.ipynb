{
 "cells": [
  {
   "cell_type": "code",
   "execution_count": 1,
   "metadata": {},
   "outputs": [],
   "source": [
    "import pandas as pd\n",
    "import numpy as np\n",
    "import matplotlib.pyplot as plt\n",
    "import matplotlib\n",
    "matplotlib.rcParams['font.family'] = 'Malgun Gothic'\n",
    "matplotlib.rcParams['axes.unicode_minus'] = False\n",
    "import math\n",
    "import scipy.stats as stats\n",
    "from sklearn.preprocessing import StandardScaler\n",
    "from IPython.display import Image\n",
    "from scipy.stats import f_oneway"
   ]
  },
  {
   "cell_type": "markdown",
   "metadata": {},
   "source": [
    "### Chi-squared test \n",
    "\n",
    "- 카이제곱 분포에 기초한 통계적 방법\n",
    "\n",
    "- 관찰된 빈도가 기대빈도와 의미있게 다른지의 여부를 검증하기 위해 사용되는 검증방법\n",
    "\n",
    "- 자료가 빈도로 주어졌을 때, 특히 명목척도 자료의 분석에 이용\n",
    "\n",
    "- 질적자료와 질적자료간에 서로 통계적으로 관계가 있는지 판단하는 검정\n",
    "\n",
    "- 단일표본의 모집단이 정규분포를 따르며 분산을 미리 알고 있는 경우에 적용된다."
   ]
  },
  {
   "cell_type": "code",
   "execution_count": 4,
   "metadata": {},
   "outputs": [
    {
     "data": {
      "image/png": "[encoded data removed]",
      "text/plain": [
       "<Figure size 504x360 with 1 Axes>"
      ]
     },
     "metadata": {
      "needs_background": "light"
     },
     "output_type": "display_data"
    }
   ],
   "source": [
    "chi  = np.linspace(0.5, 30, 100)   \n",
    "y    = stats.chi(1).pdf(chi)        \n",
    "plt.figure(figsize=(7,5))          \n",
    "plt.plot( chi, y, color=\"m\", label=r'$\\chi^2$(1)')\n",
    "plt.title( r'$\\chi^2(1)$ Distribution')   \n",
    "plt.xlabel( r'$\\chi^2$'); plt.ylabel( \"y\" )                      \n",
    "plt.grid()                           \n",
    "plt.legend()                        \n",
    "plt.show()  "
   ]
  },
  {
   "cell_type": "code",
   "execution_count": null,
   "metadata": {},
   "outputs": [],
   "source": [
    "xo, xe = [324, 78, 261], [371, 80, 212]\n",
    "xc     = pd.DataFrame( [xo, xe], columns=['Item A', 'Item B', 'Item C'], index=['관찰', '기대'] )\n",
    "xc"
   ]
  },
  {
   "cell_type": "code",
   "execution_count": null,
   "metadata": {},
   "outputs": [],
   "source": [
    "result = stats.chisquare( xo, f_exp=xe )\n",
    "result.pvalue"
   ]
  },
  {
   "cell_type": "code",
   "execution_count": null,
   "metadata": {},
   "outputs": [],
   "source": [
    "import matplotlib.pyplot as plt\n",
    "%matplotlib inline\n",
    "ax = xc.plot(kind='bar', title='Number of Items', figsize=(8, 6))\n",
    "ax.set_ylabel('value')\n",
    "plt.grid(color='darkgray')\n",
    "plt.show()"
   ]
  },
  {
   "cell_type": "markdown",
   "metadata": {},
   "source": [
    "### F-test"
   ]
  },
  {
   "cell_type": "markdown",
   "metadata": {},
   "source": [
    "등분산 검정(test of equal variances)은 두 집단 혹은 세 집단 이상 사이에 산포도(대표적인 산포도로 분산이 있음) 차이가 있는지를 통계적인 방법으로 검정하는 것으로, 두 집단 이상의 분산 차이를 검정할 때 사용할 수 있다. 즉, 각 집단이 갖는 분산이 같은 것을 귀무 가설로, 차이가 있는 것을 대립 가설로 하여 검정하는 방법이다.\n",
    "\n",
    "\n",
    "\n",
    "- $H_0$: $ \\sigma_1^2 =  \\sigma_2^2=  \\cdots = \\sigma_n^2 $\n",
    "<br>\n",
    "<br>\n",
    "- $H_1$: $ \\sigma_i^2 \\ne  \\sigma_j^2 , \\; i \\ne j  \\quad $ :  모집단 간의 분산이 적어도 하나 이상 다르다."
   ]
  },
  {
   "cell_type": "code",
   "execution_count": null,
   "metadata": {},
   "outputs": [],
   "source": [
    "#남녀의 영어 성적에 대한 분산 분석\n",
    "boy = np.array( [46,47,58,47,27,58,56,26,47,25] )\n",
    "girl= np.array( [78,57,31,28,67,77,36,57,36,57] )\n",
    "\n",
    "# 영화의 광고 전후에 대한 선호도\n",
    "bf = np.array([11,14,18,21,26,28,37,45,48,60,64] )\n",
    "af = np.array([13,15,17,18,19,23,25,28,29,36,37])\n",
    "\n",
    "print( f_oneway( boy, girl) )\n",
    "print( f_oneway( bf, af))"
   ]
  }
 ],
 "metadata": {
  "kernelspec": {
   "display_name": "Python 3",
   "language": "python",
   "name": "python3"
  },
  "language_info": {
   "codemirror_mode": {
    "name": "ipython",
    "version": 3
   },
   "file_extension": ".py",
   "mimetype": "text/x-python",
   "name": "python",
   "nbconvert_exporter": "python",
   "pygments_lexer": "ipython3",
   "version": "3.7.6"
  }
 },
 "nbformat": 4,
 "nbformat_minor": 4
}
