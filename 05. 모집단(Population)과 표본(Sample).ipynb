{
 "cells": [
  {
   "cell_type": "code",
   "execution_count": 1,
   "metadata": {},
   "outputs": [],
   "source": [
    "import matplotlib.pyplot as plt\n",
    "import pandas as pd\n",
    "import numpy as np\n",
    "import scipy.stats as st\n",
    "import math"
   ]
  },
  {
   "cell_type": "markdown",
   "metadata": {},
   "source": [
    "### 기술통계"
   ]
  },
  {
   "cell_type": "markdown",
   "metadata": {},
   "source": [
    " 분포를 표현하는 또다른 방법은 분포의 특징을 나타내는 여러가지 숫자를 계산하여 그 숫자로서 분포를 나타내는 것이다. 이러한 값들을 **기술통계(descriptive statistics)**라고 한다. 대표적인 기술통계는 다음과 같다.\n",
    "\n",
    "* 표본 평균, 표본 중앙값, 표본 최빈값\n",
    "* 표본 분산, 표본 표준편차\n",
    "* 표본 왜도, 표본 첨도"
   ]
  },
  {
   "cell_type": "code",
   "execution_count": 2,
   "metadata": {},
   "outputs": [
    {
     "data": {
      "text/plain": [
       "array([76, 55, 80, 80, 74, 61, 81, 76, 23, 80], dtype=int64)"
      ]
     },
     "execution_count": 2,
     "metadata": {},
     "output_type": "execute_result"
    }
   ],
   "source": [
    "df = pd.read_csv('data3/ch4_scores400.csv')\n",
    "scores = np.array(df['score']) #df['score'].values\n",
    "scores[:10]"
   ]
  },
  {
   "cell_type": "code",
   "execution_count": 3,
   "metadata": {},
   "outputs": [
    {
     "data": {
      "text/plain": [
       "<bound method DataFrame.info of      score\n",
       "0       76\n",
       "1       55\n",
       "2       80\n",
       "3       80\n",
       "4       74\n",
       "..     ...\n",
       "395     77\n",
       "396     60\n",
       "397     83\n",
       "398     80\n",
       "399     85\n",
       "\n",
       "[400 rows x 1 columns]>"
      ]
     },
     "execution_count": 3,
     "metadata": {},
     "output_type": "execute_result"
    }
   ],
   "source": [
    "df.info # len(df)"
   ]
  },
  {
   "cell_type": "code",
   "execution_count": 4,
   "metadata": {},
   "outputs": [
    {
     "data": {
      "text/plain": [
       "array([3, 7, 8])"
      ]
     },
     "execution_count": 4,
     "metadata": {},
     "output_type": "execute_result"
    }
   ],
   "source": [
    "np.random.choice(list(range(1,11,1)),3)"
   ]
  },
  {
   "cell_type": "markdown",
   "metadata": {},
   "source": [
    "### 평균"
   ]
  },
  {
   "cell_type": "markdown",
   "metadata": {},
   "source": [
    "####  모평균"
   ]
  },
  {
   "cell_type": "code",
   "execution_count": 5,
   "metadata": {},
   "outputs": [
    {
     "data": {
      "text/plain": [
       "69.53"
      ]
     },
     "execution_count": 5,
     "metadata": {},
     "output_type": "execute_result"
    }
   ],
   "source": [
    "scores.mean()"
   ]
  },
  {
   "cell_type": "markdown",
   "metadata": {},
   "source": [
    "#### 표본평균(sample mean, sample average)\n",
    "\n",
    "데이터 분포의 대략적인 위치를 나타낸다. 표본평균의 기호로는 알파벳 $m$ 또는 데이터를 나타내는 변수 기호 위에 bar를 붙인 $\\bar x$ 기호를 사용한다.\n",
    "\n",
    "$$ \n",
    "\\begin{align}\n",
    "m = \\bar{x} = \\dfrac{1}{N}\\sum_{i=1}^{N} x_i \n",
    "\\tag{1}\n",
    "\\end{align}\n",
    "$$\n",
    "\n",
    "이 식에서 $N$는 자료의 개수, $i$는 자료의 순서(index)를 의미한다. "
   ]
  },
  {
   "cell_type": "markdown",
   "metadata": {},
   "source": [
    "#### Result : 표본이 충분히 크면 모집단으로 근사한다는 것을 알 수 있음. "
   ]
  },
  {
   "cell_type": "code",
   "execution_count": 6,
   "metadata": {},
   "outputs": [],
   "source": [
    "n = 20\n",
    "nSample = 100\n",
    "xbar = np.array( [np.random.choice( scores, n ).mean() for _ in range(nSample)])"
   ]
  },
  {
   "cell_type": "code",
   "execution_count": 7,
   "metadata": {},
   "outputs": [
    {
     "data": {
      "text/plain": [
       "array([72.35, 66.6 , 70.7 , 76.5 , 67.1 , 76.  , 67.35, 70.95, 71.4 ,\n",
       "       66.55, 73.05, 68.65, 72.15, 70.15, 72.35, 66.65, 72.2 , 67.95,\n",
       "       66.05, 71.75, 74.3 , 67.85, 66.2 , 67.3 , 66.35, 65.65, 68.4 ,\n",
       "       69.75, 69.75, 64.1 , 67.85, 69.35, 71.  , 74.55, 73.95, 67.9 ,\n",
       "       67.65, 71.05, 59.85, 65.85, 69.65, 74.85, 66.8 , 72.15, 73.6 ,\n",
       "       68.7 , 71.4 , 66.8 , 67.55, 69.6 , 64.75, 72.1 , 64.9 , 69.95,\n",
       "       73.  , 71.65, 70.45, 73.05, 71.55, 64.15, 71.2 , 71.45, 71.  ,\n",
       "       66.75, 75.15, 70.45, 68.65, 73.6 , 63.6 , 69.45, 64.5 , 64.3 ,\n",
       "       69.7 , 70.45, 69.15, 68.  , 68.75, 73.3 , 68.15, 69.9 , 76.8 ,\n",
       "       71.4 , 68.65, 69.35, 65.65, 69.8 , 66.15, 67.5 , 71.15, 71.45,\n",
       "       65.4 , 71.95, 64.2 , 74.15, 70.05, 72.85, 72.7 , 64.7 , 68.2 ,\n",
       "       71.05])"
      ]
     },
     "execution_count": 7,
     "metadata": {},
     "output_type": "execute_result"
    }
   ],
   "source": [
    "xbar"
   ]
  },
  {
   "cell_type": "code",
   "execution_count": 8,
   "metadata": {
    "scrolled": false
   },
   "outputs": [
    {
     "name": "stdout",
     "output_type": "stream",
     "text": [
      "[49 60 72 86 52 61 77 91 80 56 69 67 90 56 75 79 60 79 68 81]\n",
      "70.4\n"
     ]
    }
   ],
   "source": [
    "np.random.seed(0)\n",
    "sample = np.random.choice(scores, 20)   # Default => replace = True (복원)\n",
    "print( sample )\n",
    "print( sample.mean() )"
   ]
  },
  {
   "cell_type": "code",
   "execution_count": 9,
   "metadata": {
    "scrolled": true
   },
   "outputs": [
    {
     "name": "stdout",
     "output_type": "stream",
     "text": [
      "1 표본평균 72.45\n",
      "2 표본평균 63.7\n",
      "3 표본평균 66.05\n",
      "4 표본평균 71.7\n",
      "5 표본평균 74.15\n"
     ]
    }
   ],
   "source": [
    "for i in range(5):\n",
    "    smaple1 = np.random.choice( scores, 20 )\n",
    "    print( i+1, '표본평균', smaple1.mean() )"
   ]
  },
  {
   "cell_type": "markdown",
   "metadata": {},
   "source": [
    "#### 표본 평균의 평균"
   ]
  },
  {
   "cell_type": "code",
   "execution_count": 10,
   "metadata": {},
   "outputs": [
    {
     "data": {
      "text/plain": [
       "69.524"
      ]
     },
     "execution_count": 10,
     "metadata": {},
     "output_type": "execute_result"
    }
   ],
   "source": [
    "xbar.mean()"
   ]
  },
  {
   "cell_type": "markdown",
   "metadata": {},
   "source": [
    "### 분산과 표준편차"
   ]
  },
  {
   "cell_type": "markdown",
   "metadata": {},
   "source": [
    "데이터가 얼마나 변동(variation)하고 있는지를 알아야 한다. \n",
    "이러한 정보를 알려주는 특징값이 **표본분산(sample variance)** 또는 **표본표준편차(sample standard deviation)**이다. \n",
    "평균이나 기댓값이 분포의 **위치**를 대표하는 것이라면 분산은 분포의 **폭(width)**을 대표하는 값이다. 표준편차는 분산에 대한 양의 제곱근(square root)값이다.\n",
    "\n",
    "$$\n",
    "\\begin{align}\n",
    "\\text{표준편차} = \\sqrt{\\text{분산}}\n",
    "\\tag{2}\n",
    "\\end{align}\n",
    "$$\n",
    "\n",
    "표본분산은 다음처럼 구한다. 식에서 $\\bar{x}$은 표본평균이다.\n",
    "\n",
    "$$ \n",
    "\\begin{align}\n",
    "s^2 = \\dfrac{1}{N}\\sum_{i=1}^{N} (x_i-\\bar{x})^2 \n",
    "\\tag{3}\n",
    "\\end{align}\n",
    "$$"
   ]
  },
  {
   "cell_type": "markdown",
   "metadata": {},
   "source": [
    "위 식에서 구한 표본분산은 정확하게 말하면 편향오차를 가진 **편향 표본분산(biased sample variance)**이다. 이와 대조되는 **불편 표본분산(unbiased sample variance)**은 다음과 같이 구한다.\n",
    "\n",
    "$$ \n",
    "\\begin{align}\n",
    "s^2_{\\text{unbiased}} = \\dfrac{1}{N-1}\\sum_{i=1}^{N} (x_i-\\bar{x})^2\n",
    "\\tag{4}\n",
    "\\end{align}\n",
    "$$"
   ]
  },
  {
   "cell_type": "markdown",
   "metadata": {},
   "source": [
    "#### 모평균의 분산"
   ]
  },
  {
   "cell_type": "code",
   "execution_count": 11,
   "metadata": {},
   "outputs": [
    {
     "data": {
      "text/plain": [
       "10.333454999999999"
      ]
     },
     "execution_count": 11,
     "metadata": {},
     "output_type": "execute_result"
    }
   ],
   "source": [
    "scores.var()/n"
   ]
  },
  {
   "cell_type": "markdown",
   "metadata": {},
   "source": [
    "#### 표본평균의 분산"
   ]
  },
  {
   "cell_type": "code",
   "execution_count": 12,
   "metadata": {},
   "outputs": [
    {
     "data": {
      "text/plain": [
       "10.382473999999997"
      ]
     },
     "execution_count": 12,
     "metadata": {},
     "output_type": "execute_result"
    }
   ],
   "source": [
    "xbar.var()"
   ]
  },
  {
   "cell_type": "markdown",
   "metadata": {},
   "source": [
    "#### 표본평균의 편차(SEM : standard error of the mean) = (평균의) 표준오차 \n",
    "ex) $ \\dfrac{ \\sigma }{ \\sqrt{n} } $"
   ]
  },
  {
   "cell_type": "code",
   "execution_count": 13,
   "metadata": {},
   "outputs": [
    {
     "data": {
      "text/plain": [
       "3.222184662616343"
      ]
     },
     "execution_count": 13,
     "metadata": {},
     "output_type": "execute_result"
    }
   ],
   "source": [
    "scores.std()/ math.sqrt(n)\n",
    "xbar.std()"
   ]
  },
  {
   "cell_type": "markdown",
   "metadata": {},
   "source": [
    "####  파이썬에서 표본분산과 표본표준편차를 구할 때는 다음 함수를 사용한다. `ddof` 인수를 이용하면 비편향 표본분산과 표본표준편차를 구할 수 있다.\n",
    "\n",
    "* [`var()`](https://docs.scipy.org/doc/numpy/reference/generated/numpy.var.html)\n",
    "* [`std()`](https://docs.scipy.org/doc/numpy/reference/generated/numpy.std.html)\n",
    "\n",
    "* https://angeloyeo.github.io/2020/02/12/standard_error.html"
   ]
  },
  {
   "cell_type": "code",
   "execution_count": 14,
   "metadata": {
    "scrolled": true
   },
   "outputs": [
    {
     "data": {
      "text/plain": [
       "(150.34000000000003, 12.261321299109653)"
      ]
     },
     "execution_count": 14,
     "metadata": {},
     "output_type": "execute_result"
    }
   ],
   "source": [
    "sample.var(), sample.std() # 편향(Biased) 표본 분산(표준편차), Default => ddof=0 (데이터 수(N)으로 나눔.)"
   ]
  },
  {
   "cell_type": "code",
   "execution_count": 15,
   "metadata": {
    "scrolled": false
   },
   "outputs": [
    {
     "data": {
      "text/plain": [
       "(150.34000000000003, 12.261321299109653)"
      ]
     },
     "execution_count": 15,
     "metadata": {},
     "output_type": "execute_result"
    }
   ],
   "source": [
    "np.var(sample), np.std(sample)"
   ]
  },
  {
   "cell_type": "code",
   "execution_count": 16,
   "metadata": {
    "scrolled": false
   },
   "outputs": [
    {
     "data": {
      "text/plain": [
       "(158.25263157894742, 12.579850220847124)"
      ]
     },
     "execution_count": 16,
     "metadata": {},
     "output_type": "execute_result"
    }
   ],
   "source": [
    "sample.var(ddof=1),  sample.std(ddof=1)  # 불편(Unbiased) 표본 분산, ddof=1 (자유도로 나눔.)"
   ]
  },
  {
   "cell_type": "code",
   "execution_count": 17,
   "metadata": {
    "scrolled": true
   },
   "outputs": [
    {
     "data": {
      "text/plain": [
       "(158.25263157894742, 12.579850220847124)"
      ]
     },
     "execution_count": 17,
     "metadata": {},
     "output_type": "execute_result"
    }
   ],
   "source": [
    "np.var(sample, ddof=1), np.std(sample,ddof=1)"
   ]
  },
  {
   "cell_type": "markdown",
   "metadata": {},
   "source": [
    "### 자유도"
   ]
  },
  {
   "cell_type": "markdown",
   "metadata": {},
   "source": [
    "통계학에서 자유도(degrees of freedom)는 통계적 추정을 할 때 표본자료 중 모집단에 대한 정보를 주는 독립적인 자료의 수를 말한다.<br>\n",
    "크기가 n인 표본의 관측값\n",
    "$({\\displaystyle x_{1},x_{2},\\dots ,x_{n}}{\\displaystyle x_{1},x_{2},\\dots ,x_{n}})의 자유도는 n-1이다.$<br>\n",
    "$거기서 구한 표본 {\\displaystyle {\\bar {x}}}에 대해서도 마찬가지이다.$\n",
    "$$\n",
    "\n",
    "$\n",
    "\\begin{align}\n",
    "분산 {\\displaystyle s^{2}={\\frac {\\sum _{i=1}^{n}({\\bar {x}}-x_{i})^{2}}{n-1}}}에 대해, {\\displaystyle {\\bar {x}}={\\frac {1}{n}}\\sum _{i=1}^{n}x_{i}}인 관계식(여기서 {\\displaystyle {\\bar {x}}}는 모집단의 평균 μ의 추정치이다)이 있기 때문에\n",
    "자유도는 1 적은 n-1이 된다.\n",
    "\\end{align}\n",
    "$"
   ]
  },
  {
   "cell_type": "markdown",
   "metadata": {},
   "source": [
    "### 모평균 추정"
   ]
  },
  {
   "cell_type": "markdown",
   "metadata": {},
   "source": [
    "#### 신뢰구간(Confidence interval) => 1.96(95% 신뢰도), 2.58(99% 신뢰도)"
   ]
  },
  {
   "cell_type": "markdown",
   "metadata": {},
   "source": [
    "n명을 임의로 표본추출.\n",
    "\n",
    "모평균(μ), 모표쥰편차($ \\sigma $)\n",
    "\n",
    "표본평균: $ \\bar{X} $  <br> \n",
    "\n",
    "$ \\bar{X} -k * \\dfrac{ \\sigma }{ \\sqrt{n} } \\le m \\le \\bar{X} +k * \\dfrac{ \\sigma }{ \\sqrt{n} }   $ <br>\n",
    "\n",
    "k : 신뢰도 상수\n",
    "\n",
    "\n",
    "표본갯수가 30개 이상이면 모표준편차와 표준편차를 동일한 것으로 본다 ($ s = \\sigma $)"
   ]
  },
  {
   "cell_type": "code",
   "execution_count": 18,
   "metadata": {},
   "outputs": [],
   "source": [
    "n      = 30\n",
    "sampl1 = np.random.choice( scores, n )\n",
    "sMean  = sampl1.mean()\n",
    "sStd  = sampl1.std()"
   ]
  },
  {
   "cell_type": "code",
   "execution_count": 19,
   "metadata": {},
   "outputs": [
    {
     "name": "stdout",
     "output_type": "stream",
     "text": [
      "모평균 69.53\n",
      "표본평균 72.0\n",
      "모평균 14.375990400664575\n",
      "표본편차 12.385475364312828\n"
     ]
    }
   ],
   "source": [
    "print('모평균', scores.mean())\n",
    "print('표본평균', sMean )\n",
    "print('모평균', scores.std())\n",
    "print('표본편차', sStd )"
   ]
  },
  {
   "cell_type": "markdown",
   "metadata": {},
   "source": [
    "#### 95% C.I for μ ( 모평균에 대한 95% 신뢰구간)"
   ]
  },
  {
   "cell_type": "code",
   "execution_count": 20,
   "metadata": {},
   "outputs": [
    {
     "name": "stdout",
     "output_type": "stream",
     "text": [
      "(66.85561790377115, 77.14438209622885)\n",
      "신뢰구간의 길이 10.288764192457705\n"
     ]
    }
   ],
   "source": [
    "L = sMean - 1.96*( scores.std()/math.sqrt(n) )\n",
    "U = sMean + 1.96*( scores.std()/math.sqrt(n) )\n",
    "print( (L,U) )\n",
    "print('신뢰구간의 길이', U-L)"
   ]
  },
  {
   "cell_type": "code",
   "execution_count": 21,
   "metadata": {},
   "outputs": [
    {
     "data": {
      "text/plain": [
       "(67.56799600220367, 76.43200399779633)"
      ]
     },
     "execution_count": 21,
     "metadata": {},
     "output_type": "execute_result"
    }
   ],
   "source": [
    "st.norm.interval( 0.95, sMean, scale=st.sem(sampl1, ddof=0) )"
   ]
  },
  {
   "cell_type": "markdown",
   "metadata": {},
   "source": [
    "### 신뢰구간 연습문제"
   ]
  },
  {
   "cell_type": "markdown",
   "metadata": {},
   "source": [
    "문제1. 어느 호수의 납의 농도는 표준편차가 3mg/L, 이 호수에서 납의 농도를 16번 측정한 결과 평균 농도는 18mg/L 이었다.<br>\n",
    "이 호수에서 남의 농도에 대한 모평균 m 의 신뢰도 95%의 신뢰구간을 구하여라."
   ]
  },
  {
   "cell_type": "code",
   "execution_count": 22,
   "metadata": {},
   "outputs": [],
   "source": [
    "def CI(x, z, s, n):\n",
    "    L = x - z*( s/math.sqrt(n) )\n",
    "    U = x + z*( s/math.sqrt(n) )\n",
    "    print( (L,U) )\n",
    "    print('신뢰구간의 길이:',U-L)"
   ]
  },
  {
   "cell_type": "code",
   "execution_count": 23,
   "metadata": {
    "scrolled": true
   },
   "outputs": [
    {
     "name": "stdout",
     "output_type": "stream",
     "text": [
      "(16.53, 19.47)\n",
      "신뢰구간의 길이 2.9399999999999977\n"
     ]
    }
   ],
   "source": [
    "xbar  = 18\n",
    "s     = 3\n",
    "n     = 16\n",
    "Lower = xbar - 1.96*( s/math.sqrt(n) )\n",
    "Upper = xbar + 1.96*( s/math.sqrt(n) )\n",
    "print( (Lower,Upper) )\n",
    "print('신뢰구간의 길이', Upper-Lower)"
   ]
  },
  {
   "cell_type": "code",
   "execution_count": 24,
   "metadata": {},
   "outputs": [
    {
     "name": "stdout",
     "output_type": "stream",
     "text": [
      "(16.53, 19.47)\n",
      "신뢰구간의 길이: 2.9399999999999977\n"
     ]
    }
   ],
   "source": [
    "CI( 18, 1.96 , 3, 16 )"
   ]
  },
  {
   "cell_type": "code",
   "execution_count": 25,
   "metadata": {},
   "outputs": [
    {
     "data": {
      "text/plain": [
       "(16.53002701159496, 19.46997298840504)"
      ]
     },
     "execution_count": 25,
     "metadata": {},
     "output_type": "execute_result"
    }
   ],
   "source": [
    "N     = 16\n",
    "sigma = 3\n",
    "xbar  = 18\n",
    "st.norm.interval(0.95, loc=xbar, scale=sigma/math.sqrt(N))"
   ]
  },
  {
   "cell_type": "markdown",
   "metadata": {},
   "source": [
    "문제2. 어느 고등학교 남학생 36명의 제자리멀리뛰기 기록은 평균이 216cm 표준편차가 10cm이었다.<br>\n",
    "이 학교 남학생들의 제자리 멀리뛰기 기록에 대한 모평균 m의 신뢰도 99% 신뢰구간을 구하여라.."
   ]
  },
  {
   "cell_type": "code",
   "execution_count": 26,
   "metadata": {},
   "outputs": [
    {
     "name": "stdout",
     "output_type": "stream",
     "text": [
      "(211.7, 220.3)\n",
      "신뢰구간의 길이 8.600000000000023\n"
     ]
    }
   ],
   "source": [
    "xbar  = 216\n",
    "s     = 10\n",
    "n  = 36\n",
    "Lo = xbar - 2.58*( s/math.sqrt(n) )\n",
    "Up = xbar + 2.58*( s/math.sqrt(n) )\n",
    "print( (Lo,Up) )\n",
    "print('신뢰구간의 길이', Up-Lo)"
   ]
  },
  {
   "cell_type": "code",
   "execution_count": 27,
   "metadata": {},
   "outputs": [
    {
     "name": "stdout",
     "output_type": "stream",
     "text": [
      "(211.7, 220.3)\n",
      "신뢰구간의 길이: 8.600000000000023\n"
     ]
    }
   ],
   "source": [
    "CI( 216,2.58, 10, 36 )"
   ]
  },
  {
   "cell_type": "markdown",
   "metadata": {},
   "source": [
    "### 중심극한의 정리(CLT : Central Limit Theorem)\n",
    "- 모집단의 분포가 무엇이든 상관없이 표본의 크기(n)이 충분히 크면 표본평균의 분포는 근사적으로 정규분포가 된다. 즉 평균, 표준편차인 임의의 모집단으로부터의 표본평균은 n이 크면 평균, 표준편차 σ/ root n 인 정규포분포를 따른다."
   ]
  },
  {
   "cell_type": "code",
   "execution_count": 28,
   "metadata": {},
   "outputs": [],
   "source": [
    "n           = 20\n",
    "nSample     = 10000\n",
    "sample_mean = np.array( [np.random.choice( scores, n ).mean() for _ in range(nSample)])"
   ]
  },
  {
   "cell_type": "code",
   "execution_count": 33,
   "metadata": {},
   "outputs": [
    {
     "data": {
      "image/png": "[encoded data removed]",
      "text/plain": [
       "<Figure size 432x288 with 1 Axes>"
      ]
     },
     "metadata": {
      "needs_background": "light"
     },
     "output_type": "display_data"
    }
   ],
   "source": [
    "plt.hist( sample_mean, bins=100, range=(0,100), density=True, color='m')\n",
    "plt.xlim(57,83)\n",
    "plt.vlines( scores.mean(), 0, 0.12, colors='y',)\n",
    "plt.show()"
   ]
  },
  {
   "cell_type": "markdown",
   "metadata": {},
   "source": [
    "#### 모집단의 Histogram"
   ]
  },
  {
   "cell_type": "code",
   "execution_count": 30,
   "metadata": {
    "scrolled": true
   },
   "outputs": [
    {
     "data": {
      "image/png": "[encoded data removed]",
      "text/plain": [
       "<Figure size 432x288 with 1 Axes>"
      ]
     },
     "metadata": {
      "needs_background": "light"
     },
     "output_type": "display_data"
    }
   ],
   "source": [
    "plt.xlabel('scores');plt.ylabel('relative frequency')\n",
    "plt.hist( scores, bins=100, range=(0,100), density=True , color='m')\n",
    "plt.xlim( 20,100 );plt.show()"
   ]
  },
  {
   "cell_type": "markdown",
   "metadata": {},
   "source": [
    "#### 표본의 Histogram"
   ]
  },
  {
   "cell_type": "code",
   "execution_count": 31,
   "metadata": {},
   "outputs": [
    {
     "data": {
      "image/png": "[encoded data removed]",
      "text/plain": [
       "<Figure size 432x288 with 1 Axes>"
      ]
     },
     "metadata": {
      "needs_background": "light"
     },
     "output_type": "display_data"
    }
   ],
   "source": [
    "sample2 = np.random.choice( scores, 10000 )\n",
    "plt.hist( sample2, bins=100, range=(0,100), density=True, color='m')\n",
    "plt.xlim( 20,100 );plt.show()"
   ]
  }
 ],
 "metadata": {
  "kernelspec": {
   "display_name": "Python 3",
   "language": "python",
   "name": "python3"
  },
  "language_info": {
   "codemirror_mode": {
    "name": "ipython",
    "version": 3
   },
   "file_extension": ".py",
   "mimetype": "text/x-python",
   "name": "python",
   "nbconvert_exporter": "python",
   "pygments_lexer": "ipython3",
   "version": "3.7.6"
  }
 },
 "nbformat": 4,
 "nbformat_minor": 4
}
