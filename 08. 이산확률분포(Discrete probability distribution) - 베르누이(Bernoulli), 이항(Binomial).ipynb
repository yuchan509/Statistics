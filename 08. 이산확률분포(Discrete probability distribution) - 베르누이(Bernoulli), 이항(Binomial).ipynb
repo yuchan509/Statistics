{
 "cells": [
  {
   "cell_type": "code",
   "execution_count": 10,
   "metadata": {},
   "outputs": [],
   "source": [
    "import scipy.stats as stats\n",
    "from scipy.special import comb, perm, factorial\n",
    "import numpy as np\n",
    "import matplotlib.pyplot as plt\n",
    "import matplotlib\n",
    "matplotlib.rcParams['font.family']='Malgun Gothic'\n",
    "matplotlib.rcParams['axes.unicode_minus'] = False\n",
    "import math"
   ]
  },
  {
   "cell_type": "markdown",
   "metadata": {},
   "source": [
    "### 베르누이 시행\n",
    "\n",
    "결과가 두 가지 중 하나로만 나오는 실험이나 시행을 **베르누이 시행**(Bernoulli trial)이라고 한다. 예를 들어 동전을 한 번 던져 앞면(H:Head)이 나오거나 뒷면(T:Tail)이 나오게 하는 것도 베르누이 시행이다."
   ]
  },
  {
   "cell_type": "markdown",
   "metadata": {},
   "source": [
    "### 베르누이 확률변수\n",
    "\n",
    "베르누이 시행의 결과를 실수 0 또는 1로 바꾼 것을 **베르누이 확률변수(Bernoulli random variable)**라고 한다. 베르누이 확률변수는 두 값 중 하나만 가질 수 있으므로 이산확률변수(discrete random variable)다. "
   ]
  },
  {
   "cell_type": "markdown",
   "metadata": {},
   "source": [
    "### 베르누이 확률분포\n",
    "\n",
    "베르누이 확률변수의 분포를 베르누이 확률분포 혹은 베르누이분포라고 한다. 만약 어떤 확률변수 $X$가 베르누이분포에 의해 발생된다면 **’확률변수 $X$가 베르누이분포를 따른다’**라고 말하고 다음과 같이 수식으로 쓴다.\n",
    "\n",
    "$$\n",
    "\\begin{align}\n",
    "X \\sim \\text{Bern}(x;p)\n",
    "\\tag{1}\n",
    "\\end{align}\n",
    "$$\n",
    "\n",
    "베르누이분포의 확률질량함수 수식은 다음과 같다.\n",
    "\n",
    "$$\n",
    "\\begin{align}\n",
    "\\text{Bern}(x;p) = \n",
    "\\begin{cases} \n",
    "p   & \\text{if }x=1, \\\\\n",
    "1-p & \\text{if }x=0\n",
    "\\end{cases}\n",
    "\\tag{2}\n",
    "\\end{align}\n",
    "$$\n"
   ]
  },
  {
   "cell_type": "markdown",
   "metadata": {},
   "source": [
    "베르누이분포의 모멘트는 다음과 같다.\n",
    "\n",
    "* 기댓값(mean)\n",
    "\n",
    "$$\n",
    "\\begin{align}\n",
    "\\text{E}[X]  = p\n",
    "\\tag{1}\n",
    "\\end{align}\n",
    "$$\n",
    "\n",
    "(증명)\n",
    "\n",
    "$$\n",
    "\\begin{align}\n",
    "\\begin{aligned}\n",
    "\\text{E}[X] \n",
    "&= \\sum_{x_i \\in \\Omega} x_i p(x_i) \\\\\n",
    "&= 1 \\cdot p + 0 \\cdot (1 - p) \\\\\n",
    "&= p\n",
    "\\end{aligned}\n",
    "\\tag{2}\n",
    "\\end{align}\n",
    "$$\n",
    "\n",
    "\n",
    "* 분산(variance)\n",
    "\n",
    "$$\n",
    "\\begin{align}\n",
    "\\text{Var}[X] = p(1-p)\n",
    "\\tag{3}\n",
    "\\end{align}\n",
    "$$\n",
    "\n",
    "(증명)\n",
    "\n",
    "$$\n",
    "\\begin{align}\n",
    "\\begin{aligned}\n",
    "\\text{Var}[X] \n",
    "&= \\sum_{x_i \\in \\Omega} (x_i - p)^2 p(x_i) \\\\\n",
    "&= (1 - p)^2 \\cdot p + (0 - p)^2 \\cdot (1 - p) \\\\\n",
    "&= p(1-p)\n",
    "\\end{aligned}\n",
    "\\tag{4}\n",
    "\\end{align}\n",
    "$$"
   ]
  },
  {
   "cell_type": "code",
   "execution_count": 7,
   "metadata": {},
   "outputs": [
    {
     "data": {
      "text/plain": [
       "array([0.1, 0.9])"
      ]
     },
     "execution_count": 7,
     "metadata": {},
     "output_type": "execute_result"
    }
   ],
   "source": [
    "p  = 1/10\n",
    "rv = stats.bernoulli( mu )\n",
    "xx = [ 1, 0 ]\n",
    "rv.pmf( xx )"
   ]
  },
  {
   "cell_type": "code",
   "execution_count": 8,
   "metadata": {},
   "outputs": [
    {
     "data": {
      "text/plain": [
       "0.1"
      ]
     },
     "execution_count": 8,
     "metadata": {},
     "output_type": "execute_result"
    }
   ],
   "source": [
    "rv.mean()"
   ]
  },
  {
   "cell_type": "code",
   "execution_count": 9,
   "metadata": {},
   "outputs": [
    {
     "data": {
      "text/plain": [
       "0.09000000000000001"
      ]
     },
     "execution_count": 9,
     "metadata": {},
     "output_type": "execute_result"
    }
   ],
   "source": [
    "rv.var()"
   ]
  },
  {
   "cell_type": "code",
   "execution_count": 21,
   "metadata": {},
   "outputs": [
    {
     "data": {
      "image/png": "[encoded data removed]",
      "text/plain": [
       "<Figure size 432x288 with 1 Axes>"
      ]
     },
     "metadata": {
      "needs_background": "light"
     },
     "output_type": "display_data"
    }
   ],
   "source": [
    "plt.xlim( -1,  2 ); plt.ylim( 0, 1 )\n",
    "plt.xticks( [0, 1], ['Fail', 'Success'] )\n",
    "plt.title( 'bernoulli pmf' )\n",
    "plt.xlabel( 'value' );plt.ylabel( 'P(x)' )\n",
    "plt.bar( xx, rv.pmf( xx ),color='m'); plt.show()"
   ]
  },
  {
   "cell_type": "markdown",
   "metadata": {},
   "source": [
    "#### 주사위를 1개 던져서 3이 나올 확률을 구하시오."
   ]
  },
  {
   "cell_type": "code",
   "execution_count": 12,
   "metadata": {},
   "outputs": [
    {
     "data": {
      "text/plain": [
       "array([0.16666667, 0.83333333])"
      ]
     },
     "execution_count": 12,
     "metadata": {},
     "output_type": "execute_result"
    }
   ],
   "source": [
    "p  = 1/6\n",
    "rv = stats.bernoulli( p )\n",
    "y  = [ 1, 0 ]\n",
    "rv.pmf( y )"
   ]
  },
  {
   "cell_type": "markdown",
   "metadata": {},
   "source": [
    "#### 주사위를 2개 던져서 눈금의 합이 6이 나올 확률을 구하시오."
   ]
  },
  {
   "cell_type": "code",
   "execution_count": 16,
   "metadata": {},
   "outputs": [
    {
     "data": {
      "text/plain": [
       "array([0.13888889, 0.86111111])"
      ]
     },
     "execution_count": 16,
     "metadata": {},
     "output_type": "execute_result"
    }
   ],
   "source": [
    "p  = 5/36\n",
    "rv = stats.bernoulli( p )\n",
    "y  = [ 1, 0 ]\n",
    "rv.pmf( y )"
   ]
  },
  {
   "cell_type": "markdown",
   "metadata": {},
   "source": [
    "1000 개의 사탕이 들어있는 바구니가 \n",
    "있다( 갈색, 파랑, 보라)\n",
    "100개 뽑음. 그중 갈색 사탕 비율 36%\n",
    "갈색사탕이 몇%정도 들어있는지 \n",
    "신뢰구간 95%로 추정하시요.\n",
    "( 실제 갈색사탕의비율 40.3%)"
   ]
  },
  {
   "cell_type": "code",
   "execution_count": 70,
   "metadata": {},
   "outputs": [
    {
     "name": "stdout",
     "output_type": "stream",
     "text": [
      "신뢰구간 : (0.26592, 0.45408)\n",
      "갈색사탕은 40.3% +- 0.18816 %p로 들어있다.\n"
     ]
    }
   ],
   "source": [
    "def CI(p, n, z):\n",
    "    L = p - z*( math.sqrt( (p*(1-p))/ n) )\n",
    "    U = p + z*( math.sqrt( (p*(1-p))/ n) )\n",
    "    print( '신뢰구간 :', ( L, U ) )\n",
    "    print(\"갈색사탕은 40.3% +-\", U-L,\"%p로 들어있다.\")\n",
    "n = 100\n",
    "p = 0.36\n",
    "t =  stats.t.ppf( 0.975, df=n-1 )\n",
    "CI(p, n, z)"
   ]
  },
  {
   "cell_type": "code",
   "execution_count": 71,
   "metadata": {},
   "outputs": [
    {
     "name": "stdout",
     "output_type": "stream",
     "text": [
      "신뢰구간 : (0.2642072166866001, 0.5357927833134)\n",
      "갈색사탕은 40.3% +- 0.2715855666267999 %p로 들어있다.\n"
     ]
    }
   ],
   "source": [
    "def CI(p, n, t):\n",
    "    L = p - t*( math.sqrt( (p*(1-p))/ n) )\n",
    "    U = p + t*( math.sqrt( (p*(1-p))/ n) )\n",
    "    print( '신뢰구간 :', ( L, U ) )\n",
    "    print(\"갈색사탕은 40.3% +-\", U-L,\"%p로 들어있다.\")\n",
    "n = 50\n",
    "p = 20/n\n",
    "t = stats.t.ppf( 0.995, df=n-1 )\n",
    "CI(p, n, z)"
   ]
  },
  {
   "cell_type": "markdown",
   "metadata": {},
   "source": [
    "### 이항분포"
   ]
  },
  {
   "cell_type": "markdown",
   "metadata": {},
   "source": [
    "베르누이분포를 따르는 확률변수 $Y$의 확률질량함수를 대입하여 정리하면 이항분포 확률변수 $X$의 확률질량함수는 다음과 같아진다.\n",
    "\n",
    "$$\n",
    "\\begin{align}\n",
    "\\text{Bin}(x;n,p) = \\binom n x \\; p^x(1-p)^{n-x}\n",
    "\\tag{1}\n",
    "\\end{align}\n",
    "$$\n",
    "\n",
    "이 식에서 $\\binom n x$ 기호는 **조합(combination)**이라는 기호로 $N$개 원소 중에 $x$개 원소를 순서와 상관없이 선택할 수 있는 경우의 수를 뜻한다. 조합은 다음 공식으로 계산할 수 있다.\n",
    "\n",
    "$$\n",
    "\\begin{align}\n",
    "\\binom n x =\\dfrac{n!}{x!(n-x)!}\n",
    "\\tag{2}\n",
    "\\end{align}\n",
    "$$\n",
    "\n",
    "$!$ 기호는 **팩토리얼(factorial)**이라고 하며 다음처럼 정의한다.\n",
    "\n",
    "$$\n",
    "\\begin{align}\n",
    "n! = n\\cdot (n-1) \\cdots 2 \\cdot 1\n",
    "\\tag{3}\n",
    "\\end{align}\n",
    "$$"
   ]
  },
  {
   "cell_type": "code",
   "execution_count": 34,
   "metadata": {},
   "outputs": [
    {
     "data": {
      "image/png": "[encoded data removed]",
      "text/plain": [
       "<Figure size 432x288 with 1 Axes>"
      ]
     },
     "metadata": {
      "needs_background": "light"
     },
     "output_type": "display_data"
    }
   ],
   "source": [
    "n  = 10\n",
    "p  = 4/5\n",
    "rv = stats.binom( n, p )\n",
    "xx = np.arange( n+1 )\n",
    "plt.bar( xx, rv.pmf( xx ), color='m' )\n",
    "plt.show()\n"
   ]
  },
  {
   "cell_type": "markdown",
   "metadata": {},
   "source": [
    "#### 조합(combination)"
   ]
  },
  {
   "cell_type": "code",
   "execution_count": 5,
   "metadata": {},
   "outputs": [
    {
     "data": {
      "text/plain": [
       "120.0"
      ]
     },
     "execution_count": 5,
     "metadata": {},
     "output_type": "execute_result"
    }
   ],
   "source": [
    "comb(10, 3)"
   ]
  },
  {
   "cell_type": "code",
   "execution_count": 13,
   "metadata": {},
   "outputs": [
    {
     "data": {
      "text/plain": [
       "120.0"
      ]
     },
     "execution_count": 13,
     "metadata": {},
     "output_type": "execute_result"
    }
   ],
   "source": [
    "factorial(10) / ( factorial(7)*factorial(3) )"
   ]
  },
  {
   "cell_type": "markdown",
   "metadata": {},
   "source": [
    "#### 팩토리얼(Factorial)"
   ]
  },
  {
   "cell_type": "code",
   "execution_count": 11,
   "metadata": {},
   "outputs": [
    {
     "data": {
      "text/plain": [
       "3628800.0"
      ]
     },
     "execution_count": 11,
     "metadata": {},
     "output_type": "execute_result"
    }
   ],
   "source": [
    "factorial(10)"
   ]
  },
  {
   "cell_type": "markdown",
   "metadata": {},
   "source": [
    "#### 주사위를 10번 던졌을때 눈금 5가 3번나올 확률"
   ]
  },
  {
   "cell_type": "code",
   "execution_count": 16,
   "metadata": {},
   "outputs": [
    {
     "data": {
      "text/plain": [
       "0.15504535957425197"
      ]
     },
     "execution_count": 16,
     "metadata": {},
     "output_type": "execute_result"
    }
   ],
   "source": [
    "n = 10\n",
    "p = 1/6\n",
    "rv = stats.binom( n, p )\n",
    "rv.pmf( 3 )"
   ]
  },
  {
   "cell_type": "markdown",
   "metadata": {},
   "source": [
    "#### 한 축구 선숫가 패널티킥을 차면 5번 중 4번을 성공한다고 한다. 그럼 이 선수가 10번의 페널티킥을 차서 7번 성공할 확률을 구하시오."
   ]
  },
  {
   "cell_type": "code",
   "execution_count": 19,
   "metadata": {},
   "outputs": [
    {
     "data": {
      "text/plain": [
       "0.20132659200000014"
      ]
     },
     "execution_count": 19,
     "metadata": {},
     "output_type": "execute_result"
    }
   ],
   "source": [
    "n = 10\n",
    "p = 4/5\n",
    "rv = stats.binom( n, p )\n",
    "rv.pmf( 7 )"
   ]
  },
  {
   "cell_type": "markdown",
   "metadata": {},
   "source": [
    "#### 스마트폰의 한 부품을 맏는 회사가 있는데, 이 회사에서 만드는 부품의 불량률은 5%라고 한다. 그럼 부품 20개를 조사했을 때. 불량품이 2개 이하러 나올 확률을 구하시오."
   ]
  },
  {
   "cell_type": "code",
   "execution_count": 28,
   "metadata": {},
   "outputs": [
    {
     "data": {
      "text/plain": [
       "0.9245163262115033"
      ]
     },
     "execution_count": 28,
     "metadata": {},
     "output_type": "execute_result"
    }
   ],
   "source": [
    "n = 20\n",
    "p = 0.05\n",
    "rv = stats.binom( n, p )\n",
    "rv.cdf(2) # rv.pmf( 2 ) + rv.pmf(1) + rv.pmf(0)"
   ]
  },
  {
   "cell_type": "markdown",
   "metadata": {},
   "source": [
    "#### 어떤 희귀 바이러스에 감염되었을 때, 회복할 수 있는 치료율은 20%라고 한다. 그럼 바이러스에 감염된 환자가 15명을 치료했을 때, 적어도 2명 이상은 회복할 확률 구하시오."
   ]
  },
  {
   "cell_type": "code",
   "execution_count": 33,
   "metadata": {},
   "outputs": [
    {
     "data": {
      "text/plain": [
       "0.8328742325780478"
      ]
     },
     "execution_count": 33,
     "metadata": {},
     "output_type": "execute_result"
    }
   ],
   "source": [
    "n = 15\n",
    "p = 0.2\n",
    "rv = stats.binom( n, p )\n",
    "1 - rv.cdf(1) "
   ]
  }
 ],
 "metadata": {
  "kernelspec": {
   "display_name": "Python 3",
   "language": "python",
   "name": "python3"
  },
  "language_info": {
   "codemirror_mode": {
    "name": "ipython",
    "version": 3
   },
   "file_extension": ".py",
   "mimetype": "text/x-python",
   "name": "python",
   "nbconvert_exporter": "python",
   "pygments_lexer": "ipython3",
   "version": "3.7.6"
  }
 },
 "nbformat": 4,
 "nbformat_minor": 4
}
